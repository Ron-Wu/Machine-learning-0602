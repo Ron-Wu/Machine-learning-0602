{
  "nbformat": 4,
  "nbformat_minor": 0,
  "metadata": {
    "colab": {
      "name": "animax.ipynb",
      "provenance": [],
      "authorship_tag": "ABX9TyPK6TpL77Df/foJtgG5HqUV",
      "include_colab_link": true
    },
    "kernelspec": {
      "name": "python3",
      "display_name": "Python 3"
    },
    "language_info": {
      "name": "python"
    }
  },
  "cells": [
    {
      "cell_type": "markdown",
      "metadata": {
        "id": "view-in-github",
        "colab_type": "text"
      },
      "source": [
        "<a href=\"https://colab.research.google.com/github/Ron-Wu/Machine-learning-0602/blob/main/animax.ipynb\" target=\"_parent\"><img src=\"https://colab.research.google.com/assets/colab-badge.svg\" alt=\"Open In Colab\"/></a>"
      ]
    },
    {
      "cell_type": "code",
      "metadata": {
        "id": "JNWjcJ1iXpmQ"
      },
      "source": [
        "            if level > 0:\n",
        "                line_bot_api.reply_message(\n",
        "                    event.reply_token,\n",
        "                    (VideoSendMessage(original_content_url='https://i.imgur.com/QLNDFAp.mp4',\n",
        "                                    preview_image_url='https://i.imgur.com/QLNDFAp.jpg'),\n",
        "                    TextSendMessage(f'從{date1}~{date2}之間來看，是變胖喔死肥宅')))\n",
        "\n",
        "\n",
        "            else:\n",
        "                line_bot_api.reply_message(\n",
        "                event.reply_token,\n",
        "                (VideoSendMessage(original_content_url='https://i.imgur.com/RD2c3UU.mp4',\n",
        "                                    preview_image_url='https://i.imgur.com/RD2c3UU.jpg'),\n",
        "                TextSendMessage(f'從{date1}~{date2}之間來看，是變瘦')))"
      ],
      "execution_count": null,
      "outputs": []
    }
  ]
}