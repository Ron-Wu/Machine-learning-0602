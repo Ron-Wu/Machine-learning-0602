{
  "nbformat": 4,
  "nbformat_minor": 0,
  "metadata": {
    "colab": {
      "name": "fast_text_上課.ipynb",
      "provenance": [],
      "include_colab_link": true
    },
    "kernelspec": {
      "name": "python3",
      "display_name": "Python 3"
    },
    "accelerator": "GPU"
  },
  "cells": [
    {
      "cell_type": "markdown",
      "metadata": {
        "id": "view-in-github",
        "colab_type": "text"
      },
      "source": [
        "<a href=\"https://colab.research.google.com/github/Ron-Wu/Machine-learning-0602/blob/main/fast_text_%E4%B8%8A%E8%AA%B2.ipynb\" target=\"_parent\"><img src=\"https://colab.research.google.com/assets/colab-badge.svg\" alt=\"Open In Colab\"/></a>"
      ]
    },
    {
      "cell_type": "code",
      "metadata": {
        "id": "HkZo-KWNetI4",
        "colab": {
          "base_uri": "https://localhost:8080/"
        },
        "outputId": "5796c446-000f-495f-efad-113aad88f691"
      },
      "source": [
        "# 下載fasttext千錘百鍊預訓練好的詞向量\n",
        "!wget https://dl.fbaipublicfiles.com/fasttext/vectors-crawl/cc.zh.300.bin.gz\n",
        "!gunzip cc.zh.300.bin.gz"
      ],
      "execution_count": 1,
      "outputs": [
        {
          "output_type": "stream",
          "text": [
            "--2021-07-15 06:06:37--  https://dl.fbaipublicfiles.com/fasttext/vectors-crawl/cc.zh.300.bin.gz\n",
            "Resolving dl.fbaipublicfiles.com (dl.fbaipublicfiles.com)... 104.22.75.142, 104.22.74.142, 172.67.9.4, ...\n",
            "Connecting to dl.fbaipublicfiles.com (dl.fbaipublicfiles.com)|104.22.75.142|:443... connected.\n",
            "HTTP request sent, awaiting response... 200 OK\n",
            "Length: 4478681770 (4.2G) [application/octet-stream]\n",
            "Saving to: ‘cc.zh.300.bin.gz’\n",
            "\n",
            "cc.zh.300.bin.gz    100%[===================>]   4.17G  37.3MB/s    in 82s     \n",
            "\n",
            "2021-07-15 06:07:59 (52.4 MB/s) - ‘cc.zh.300.bin.gz’ saved [4478681770/4478681770]\n",
            "\n"
          ],
          "name": "stdout"
        }
      ]
    },
    {
      "cell_type": "code",
      "metadata": {
        "id": "eVlV9SjqgWFS"
      },
      "source": [
        "from gensim.models.fasttext import FastText\n",
        "model = FastText.load_fasttext_format('cc.zh.300.bin')"
      ],
      "execution_count": 2,
      "outputs": []
    },
    {
      "cell_type": "code",
      "metadata": {
        "id": "weRojINDubAO"
      },
      "source": [
        "import warnings\n",
        "warnings.filterwarnings(\"ignore\", category=FutureWarning)"
      ],
      "execution_count": null,
      "outputs": []
    },
    {
      "cell_type": "code",
      "metadata": {
        "id": "laoDFP6-Lr4l",
        "colab": {
          "base_uri": "https://localhost:8080/"
        },
        "outputId": "d510d6fe-1f8c-4523-f024-6e3b05eedff0"
      },
      "source": [
        "# 我們的模型裡面有多少個詞\n",
        "len(model.wv.vocab)"
      ],
      "execution_count": 3,
      "outputs": [
        {
          "output_type": "execute_result",
          "data": {
            "text/plain": [
              "2000000"
            ]
          },
          "metadata": {
            "tags": []
          },
          "execution_count": 3
        }
      ]
    },
    {
      "cell_type": "code",
      "metadata": {
        "id": "Wue-ACwcDKmh",
        "colab": {
          "base_uri": "https://localhost:8080/"
        },
        "outputId": "ccbe7266-9ca3-4889-a470-d1f7daab2527"
      },
      "source": [
        "word = \"\\u5468\\u6770\\u502B\"#@param {type:\"string\"}\n",
        "print(word, \"長這樣:\")\n",
        "model.wv[word]"
      ],
      "execution_count": 4,
      "outputs": [
        {
          "output_type": "stream",
          "text": [
            "周杰倫 長這樣:\n"
          ],
          "name": "stdout"
        },
        {
          "output_type": "execute_result",
          "data": {
            "text/plain": [
              "array([-0.06417622, -0.07755239,  0.08411184,  0.22523576, -0.0854517 ,\n",
              "        0.05507534, -0.0719581 , -0.02633045,  0.36580244, -0.04671447,\n",
              "       -0.07201375,  0.08179424,  0.06176071, -0.03386925, -0.12199773,\n",
              "        0.01890981, -0.16104619,  0.06150802, -0.02700941, -0.09594997,\n",
              "       -0.01289377, -0.0821996 , -0.19691592, -0.05326241,  0.02934106,\n",
              "        0.03954047, -0.01107728,  0.06737816, -0.135158  ,  0.07702958,\n",
              "        0.06764923,  0.10228842,  0.11147463, -0.02219759, -0.03494326,\n",
              "        0.11606849, -0.0885908 ,  0.06172001, -0.03838678,  0.08895351,\n",
              "        0.15561594, -0.07232966,  0.14957362, -0.10955278, -0.01936073,\n",
              "        0.01400912, -0.03582732, -0.09865607, -0.1818452 , -0.06274772,\n",
              "        0.03716094, -0.01877634, -0.00147134,  0.18095887, -0.0889954 ,\n",
              "        0.07718305, -0.06104054, -0.09978639, -0.09947109,  0.00714104,\n",
              "        0.08680629,  0.0092528 ,  0.12614204, -0.20042036,  0.04458365,\n",
              "       -0.00451244, -0.12626085, -0.01436893,  0.05289337,  0.10686627,\n",
              "       -0.06992423,  0.09361816,  0.07790398,  0.00548523,  0.0835695 ,\n",
              "        0.00472235, -0.10031609, -0.1527904 ,  0.11443494,  0.0523663 ,\n",
              "        0.03499095,  0.05249704, -0.04857901,  0.19446321,  0.03532626,\n",
              "       -0.02164781, -0.0666107 , -0.22050528,  0.243305  ,  0.03187259,\n",
              "       -0.13622558, -0.1592277 , -0.13151763,  0.00144756,  0.22454423,\n",
              "        0.24816324, -0.10110629, -0.0160581 , -0.10549484,  0.01165936,\n",
              "       -0.2897647 , -0.07475366, -0.11925912,  0.08749937, -0.13267544,\n",
              "        0.06447362, -0.08532773, -0.066323  ,  0.21659209,  0.16469474,\n",
              "        0.08341683,  0.08569273,  0.16981535,  0.07919911, -0.03369264,\n",
              "       -0.02991951,  0.15230167,  0.0681526 ,  0.08027207,  0.05517146,\n",
              "        0.14733353,  0.04912957,  0.00548819, -0.06433842, -0.12001394,\n",
              "       -0.06136275,  0.0279917 ,  0.02883825,  0.0168262 ,  0.09383772,\n",
              "       -0.16466005, -0.03135021, -0.18615367, -0.15509897,  0.07176343,\n",
              "       -0.01614935, -0.14027198,  0.03710556, -0.09874155,  0.06677813,\n",
              "        0.06288499,  0.07290816, -0.06572436,  0.07817785, -0.02336262,\n",
              "       -0.00300135,  0.18266244, -0.04933443, -0.1137353 ,  0.1839977 ,\n",
              "       -0.23582523, -0.1655531 , -0.07563005, -0.11709294, -0.02000739,\n",
              "        0.02124023, -0.00196918,  0.1232266 , -0.14611301, -0.02086009,\n",
              "        0.01371465,  0.06210502,  0.13336733,  0.08764802, -0.09813412,\n",
              "       -0.01033943,  0.0460101 , -0.00600162,  0.01165328,  0.06817019,\n",
              "       -0.21763548,  0.11102769, -0.03621735,  0.21094444, -0.0393517 ,\n",
              "       -0.1485771 ,  0.05075572, -0.06216788,  0.22143479,  0.12557843,\n",
              "       -0.01552289,  0.0017191 ,  0.02119801, -0.00064375,  0.08199645,\n",
              "        0.02605249, -0.06934209,  0.06318372,  0.0523532 ,  0.31369334,\n",
              "        0.08185361, -0.06544613, -0.0205976 ,  0.14308476,  0.16360255,\n",
              "       -0.08329526,  0.03286099, -0.06976395,  0.1449056 , -0.04663375,\n",
              "        0.04790121, -0.0904481 , -0.07189166, -0.01005132, -0.0818469 ,\n",
              "        0.01375734,  0.1817226 , -0.09130295, -0.16607462, -0.02826225,\n",
              "        0.13210814, -0.16402462, -0.11828139, -0.02181705, -0.01812283,\n",
              "       -0.1305441 ,  0.13609585,  0.00477585,  0.14723909, -0.02592146,\n",
              "        0.00403216, -0.0678535 ,  0.1447762 , -0.00761856,  0.0997175 ,\n",
              "        0.01744689, -0.01141074,  0.08134282,  0.05796093, -0.24819432,\n",
              "       -0.04795733,  0.4606604 ,  0.12918235,  0.09046016,  0.01721688,\n",
              "        0.06045454, -0.0198473 ,  0.15157142, -0.05939115, -0.10956194,\n",
              "        0.00729323, -0.08840233, -0.02790275, -0.04621983,  0.06297782,\n",
              "        0.05487661, -0.13380393,  0.14466362,  0.04983006, -0.00542514,\n",
              "        0.03061581, -0.01933558,  0.0922169 , -0.03834131, -0.05149896,\n",
              "        0.00270429, -0.02178553, -0.04983791,  0.14500232,  0.17273934,\n",
              "        0.01013364, -0.01400262,  0.03450814, -0.00693401, -0.0550384 ,\n",
              "        0.09188498,  0.00894263,  0.07430709,  0.07737454,  0.00541916,\n",
              "        0.20889604, -0.03873964, -0.05089135,  0.14584209,  0.13813347,\n",
              "       -0.1670243 ,  0.00230442, -0.18413249,  0.12114768, -0.03518264,\n",
              "        0.24800411, -0.15308385, -0.04796648, -0.07352204,  0.0184295 ,\n",
              "        0.15278982, -0.0028335 ,  0.03089469, -0.12090987, -0.00195139,\n",
              "        0.03867342,  0.05494728,  0.00342496,  0.02700042,  0.03755685,\n",
              "       -0.05820559,  0.12135761,  0.00155645,  0.05219711, -0.05699483],\n",
              "      dtype=float32)"
            ]
          },
          "metadata": {
            "tags": []
          },
          "execution_count": 4
        }
      ]
    },
    {
      "cell_type": "code",
      "metadata": {
        "id": "QdjjywfL8GTq",
        "colab": {
          "base_uri": "https://localhost:8080/"
        },
        "outputId": "6f539264-e93c-4ce2-d0c4-8ead2b09eaba"
      },
      "source": [
        "#@title 找出相似詞!!!\n",
        "\n",
        "text = '\\u798F\\u539F\\u611B' #@param {type:\"string\"}\n",
        "model.wv.most_similar(text)"
      ],
      "execution_count": 5,
      "outputs": [
        {
          "output_type": "execute_result",
          "data": {
            "text/plain": [
              "[('江宏傑', 0.7769640684127808),\n",
              " ('江宏杰', 0.6791825294494629),\n",
              " ('王明俊', 0.6453269124031067),\n",
              " ('李亞軒', 0.6328298449516296),\n",
              " ('鄭怡靜', 0.6137341260910034),\n",
              " ('莊智淵', 0.6112247705459595),\n",
              " ('陳建安', 0.6087343692779541),\n",
              " ('海碩盃', 0.6062625646591187),\n",
              " ('松平健太', 0.6059966087341309),\n",
              " ('福原爱', 0.6043314933776855)]"
            ]
          },
          "metadata": {
            "tags": []
          },
          "execution_count": 5
        }
      ]
    },
    {
      "cell_type": "code",
      "metadata": {
        "colab": {
          "base_uri": "https://localhost:8080/"
        },
        "id": "4Pj8XhJoLWDA",
        "outputId": "65f7f738-9feb-4fbc-8710-4e93ca1a73ad"
      },
      "source": [
        "\"批踢踢\" in model.wv.vocab"
      ],
      "execution_count": 25,
      "outputs": [
        {
          "output_type": "execute_result",
          "data": {
            "text/plain": [
              "True"
            ]
          },
          "metadata": {
            "tags": []
          },
          "execution_count": 25
        }
      ]
    },
    {
      "cell_type": "code",
      "metadata": {
        "id": "lJORaH4JNzDS",
        "colab": {
          "base_uri": "https://localhost:8080/"
        },
        "outputId": "ca7e511f-9495-449a-ec57-b9405c345a2b"
      },
      "source": [
        "#@title 比較兩個特定詞的相似度\n",
        "\n",
        "text1 = '\\u65E5\\u6708\\u5149' #@param {type:\"string\"}\n",
        "text2 = '\\u795E\\u8F4E' #@param {type:\"string\"}\n",
        "model.wv.similarity(text1, text2)"
      ],
      "execution_count": 24,
      "outputs": [
        {
          "output_type": "execute_result",
          "data": {
            "text/plain": [
              "-0.029707188"
            ]
          },
          "metadata": {
            "tags": []
          },
          "execution_count": 24
        }
      ]
    },
    {
      "cell_type": "code",
      "metadata": {
        "id": "A3m66PlJJzgo",
        "colab": {
          "base_uri": "https://localhost:8080/"
        },
        "outputId": "ca444345-0e58-45f2-8d04-e1b8621af848"
      },
      "source": [
        "#@title 找到不是同一掛的詞\n",
        "\n",
        "text1 = '\\u82B1\\u82B1' #@param {type:\"string\"}\n",
        "text2 = '\\u6CE1\\u6CE1' #@param {type:\"string\"}\n",
        "text3 = '\\u6BDB\\u6BDB' #@param {type:\"string\"}\n",
        "text4 = '\\u7403\\u7403' #@param {type:\"string\"}\n",
        "\n",
        "notmatch = model.wv.doesnt_match([text1, text2, text3, text4])\n",
        "print(\"不是同一掛的:\", notmatch)"
      ],
      "execution_count": 22,
      "outputs": [
        {
          "output_type": "stream",
          "text": [
            "不是同一掛的: 花花\n"
          ],
          "name": "stdout"
        },
        {
          "output_type": "stream",
          "text": [
            "/usr/local/lib/python3.7/dist-packages/gensim/models/keyedvectors.py:895: FutureWarning: arrays to stack must be passed as a \"sequence\" type such as list or tuple. Support for non-sequence iterables such as generators is deprecated as of NumPy 1.16 and will raise an error in the future.\n",
            "  vectors = vstack(self.word_vec(word, use_norm=True) for word in used_words).astype(REAL)\n"
          ],
          "name": "stderr"
        }
      ]
    },
    {
      "cell_type": "code",
      "metadata": {
        "id": "i2kMoj47KTl1",
        "colab": {
          "base_uri": "https://localhost:8080/"
        },
        "outputId": "3107a605-2e6c-46e2-901c-d4af9f91de01"
      },
      "source": [
        "#@title 給電腦做智力測驗(詞1 - 詞3 = ? - 詞2)\n",
        "\n",
        "# text1 + text2 - text3 = ?\n",
        "# text1 - text3 = ? - text2\n",
        "text1 = '\\u7FD2\\u8FD1\\u5E73' #@param {type:\"string\"}\n",
        "text2 = '\\u8521\\u82F1\\u6587' #@param {type:\"string\"}\n",
        "text3 = '\\u7DAD\\u5C3C' #@param {type:\"string\"}\n",
        "question = model.wv.most_similar(positive=[text1, text2], negative=[text3])\n",
        "print(text1, \"-\", text3, \"=\", \"?\", \"-\", text2)\n",
        "question"
      ],
      "execution_count": 11,
      "outputs": [
        {
          "output_type": "stream",
          "text": [
            "習近平 - 維尼 = ? - 蔡英文\n"
          ],
          "name": "stdout"
        },
        {
          "output_type": "execute_result",
          "data": {
            "text/plain": [
              "[('习近平', 0.5865945816040039),\n",
              " ('蔡當局', 0.5652966499328613),\n",
              " ('洪秀柱', 0.5638772249221802),\n",
              " ('马习会', 0.563456654548645),\n",
              " ('马英九', 0.536089301109314),\n",
              " ('习总', 0.5355770587921143),\n",
              " ('宋楚瑜', 0.528486430644989),\n",
              " ('馬英九', 0.5263776183128357),\n",
              " ('台當局', 0.5245048999786377),\n",
              " ('蔡習會', 0.5224987864494324)]"
            ]
          },
          "metadata": {
            "tags": []
          },
          "execution_count": 11
        }
      ]
    },
    {
      "cell_type": "code",
      "metadata": {
        "colab": {
          "base_uri": "https://localhost:8080/"
        },
        "id": "TguMjAi-NZDY",
        "outputId": "77654625-ed9b-4720-fbc1-517bafab409a"
      },
      "source": [
        "text1 = '\\u65E5\\u6708\\u5149' #@param {type:\"string\"}\n",
        "text3 = '\\u795E\\u8F4E' #@param {type:\"string\"}\n",
        "question = model.wv.most_similar(positive=[text1], negative=[text3])\n",
        "question"
      ],
      "execution_count": 23,
      "outputs": [
        {
          "output_type": "execute_result",
          "data": {
            "text/plain": [
              "[('15490', 0.34781593084335327),\n",
              " ('5490', 0.30699294805526733),\n",
              " ('15244', 0.2969701886177063),\n",
              " ('45.00￥30.60', 0.26229166984558105),\n",
              " ('12801', 0.2615055441856384),\n",
              " ('15242', 0.2595618963241577),\n",
              " ('17550', 0.25890201330184937),\n",
              " ('12063', 0.2555088698863983),\n",
              " ('12370', 0.2546805739402771),\n",
              " ('17458.36', 0.2527073621749878)]"
            ]
          },
          "metadata": {
            "tags": []
          },
          "execution_count": 23
        }
      ]
    },
    {
      "cell_type": "code",
      "metadata": {
        "id": "gi-SM9U21jvW",
        "colab": {
          "base_uri": "https://localhost:8080/"
        },
        "outputId": "e6e17b9e-4036-4363-e6d0-7587a8832cc8"
      },
      "source": [
        "text = \"周凡剛\"\n",
        "print(\"machine-washabled有在字典裡?\", text in model.wv.vocab)\n",
        "model.wv.most_similar(text)"
      ],
      "execution_count": null,
      "outputs": [
        {
          "output_type": "stream",
          "text": [
            "machine-washabled有在字典裡? False\n"
          ],
          "name": "stdout"
        },
        {
          "output_type": "execute_result",
          "data": {
            "text/plain": [
              "[('Plurk.com', 0.7311971187591553),\n",
              " ('//www.plurk.com/ddrrelmax', 0.3652145564556122),\n",
              " ('浪唄', 0.3061898648738861),\n",
              " ('類♥♥', 0.2966107130050659),\n",
              " ('吧來撲', 0.2959628701210022),\n",
              " ('媽咪愛碎碎', 0.27673715353012085),\n",
              " ('293031', 0.2752768397331238),\n",
              " ('玩噗', 0.27147096395492554),\n",
              " ('動口不動手現', 0.26459649205207825),\n",
              " ('海用', 0.26184791326522827)]"
            ]
          },
          "metadata": {
            "tags": []
          },
          "execution_count": 25
        }
      ]
    }
  ]
}