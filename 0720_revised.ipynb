{
  "nbformat": 4,
  "nbformat_minor": 0,
  "metadata": {
    "colab": {
      "name": "0720.ipynb",
      "provenance": [],
      "collapsed_sections": [],
      "include_colab_link": true
    },
    "kernelspec": {
      "name": "python3",
      "display_name": "Python 3"
    },
    "language_info": {
      "name": "python"
    }
  },
  "cells": [
    {
      "cell_type": "markdown",
      "metadata": {
        "id": "view-in-github",
        "colab_type": "text"
      },
      "source": [
        "<a href=\"https://colab.research.google.com/github/Ron-Wu/Machine-learning-0602/blob/main/0720_revised.ipynb\" target=\"_parent\"><img src=\"https://colab.research.google.com/assets/colab-badge.svg\" alt=\"Open In Colab\"/></a>"
      ]
    },
    {
      "cell_type": "code",
      "metadata": {
        "id": "WA_f0-WZwCFh"
      },
      "source": [
        "cal_database = {\n",
        "    0:['包子','300','baozi'], 1:['漢堡','250','buger'], 2:['蛋餅','280','danbing'],\n",
        "    3:['飲料','500','drinks'], 4:['飯糰','400','fantuan'], 5:['鍋貼','50','guotie'],\n",
        "    6:['燒餅','170','shaobing'], 7:['吐司','345','sliced_bread'], 8:['饅頭','175','steamed_bread'],\n",
        "    9:['御飯糰','150','triangle_riceball'], 10:['小籠包','45','xiaolongbao'], 11:['油條','100','you_tiao']\n",
        "}"
      ],
      "execution_count": 10,
      "outputs": []
    },
    {
      "cell_type": "code",
      "metadata": {
        "id": "OzyhiVCfWdm9",
        "outputId": "1ed8ea28-eb5d-447b-acf6-e9b8b2f6bb3f",
        "colab": {
          "base_uri": "https://localhost:8080/"
        }
      },
      "source": [
        "f = open(\"1.txt\")\n",
        "data = f.read().splitlines()\n",
        "# print(data)\n",
        "# print(type(data))\n",
        "name_set = set()\n",
        "for i in data:\n",
        "  index = int(i.split(\" \")[0])\n",
        "  # print(index)\n",
        "  name_set.add(cal_database[index][0])\n",
        "print(name_set)"
      ],
      "execution_count": 17,
      "outputs": [
        {
          "output_type": "stream",
          "text": [
            "{'飲料', '小籠包', '吐司'}\n"
          ],
          "name": "stdout"
        }
      ]
    },
    {
      "cell_type": "code",
      "metadata": {
        "id": "8m_2ugRwamwe",
        "outputId": "13bc4bc0-fd74-49ea-d36b-6c84656372af",
        "colab": {
          "base_uri": "https://localhost:8080/"
        }
      },
      "source": [
        "str_f = \"\"\n",
        "name_list = list(name_set)\n",
        "print(name_list)\n",
        "for i in range(len(cal_database)):\n",
        "  for j in  name_list:\n",
        "    if j == cal_database[i][0]:\n",
        "      print(f\"{cal_database[i][0]}的熱量為{cal_database[i][1]}大卡\")\n",
        "    else:\n",
        "      pass\n",
        "\n",
        "str_f = \"\"\n",
        "for i in range(len(list(name_list))):\n",
        "  if i < len(name_list)-1:\n",
        "    str_f += f'{name_list[i]},'\n",
        "  else:\n",
        "    str_f += f\"{name_list[i]}\"\n",
        "print(str_f)"
      ],
      "execution_count": 30,
      "outputs": [
        {
          "output_type": "stream",
          "text": [
            "['飲料', '小籠包', '吐司']\n",
            "飲料的熱量為500大卡\n",
            "吐司的熱量為345大卡\n",
            "小籠包的熱量為45大卡\n",
            "飲料,小籠包,吐司\n"
          ],
          "name": "stdout"
        }
      ]
    },
    {
      "cell_type": "code",
      "metadata": {
        "id": "h0iWueO8wLzr",
        "colab": {
          "base_uri": "https://localhost:8080/",
          "height": 227
        },
        "outputId": "839dbecc-6155-48fe-e6cc-44de65da242c"
      },
      "source": [
        "# 詢問用戶品項\n",
        "str_f = \"\"\n",
        "for i in range(len(list(set_l))):\n",
        "  if i < len(list(set_l))-1:\n",
        "    # print(cal_database[list(set_l)[i]][0])\n",
        "    str_f += f\"{cal_database[list(set_l)[i]][0]},\"\n",
        "  else:\n",
        "    str_f += f\"{cal_database[list(set_l)[i]][0]}\"\n",
        "# print(str_f)\n",
        "\n",
        "print(f'你的餐點是\"{str_f}\"是嗎')\n",
        "print(f'請照順序輸入份數，例：若三份，一份，請輸入：3,1')"
      ],
      "execution_count": 24,
      "outputs": [
        {
          "output_type": "error",
          "ename": "NameError",
          "evalue": "ignored",
          "traceback": [
            "\u001b[0;31m---------------------------------------------------------------------------\u001b[0m",
            "\u001b[0;31mNameError\u001b[0m                                 Traceback (most recent call last)",
            "\u001b[0;32m<ipython-input-24-05036071480c>\u001b[0m in \u001b[0;36m<module>\u001b[0;34m()\u001b[0m\n\u001b[1;32m      2\u001b[0m \u001b[0mstr_f\u001b[0m \u001b[0;34m=\u001b[0m \u001b[0;34m\"\"\u001b[0m\u001b[0;34m\u001b[0m\u001b[0;34m\u001b[0m\u001b[0m\n\u001b[1;32m      3\u001b[0m \u001b[0;32mfor\u001b[0m \u001b[0mi\u001b[0m \u001b[0;32min\u001b[0m \u001b[0mrange\u001b[0m\u001b[0;34m(\u001b[0m\u001b[0mlen\u001b[0m\u001b[0;34m(\u001b[0m\u001b[0mlist\u001b[0m\u001b[0;34m(\u001b[0m\u001b[0mname_list\u001b[0m\u001b[0;34m)\u001b[0m\u001b[0;34m)\u001b[0m\u001b[0;34m)\u001b[0m\u001b[0;34m:\u001b[0m\u001b[0;34m\u001b[0m\u001b[0;34m\u001b[0m\u001b[0m\n\u001b[0;32m----> 4\u001b[0;31m   \u001b[0;32mif\u001b[0m \u001b[0mi\u001b[0m \u001b[0;34m<\u001b[0m \u001b[0mlen\u001b[0m\u001b[0;34m(\u001b[0m\u001b[0mlist\u001b[0m\u001b[0;34m(\u001b[0m\u001b[0mset_l\u001b[0m\u001b[0;34m)\u001b[0m\u001b[0;34m)\u001b[0m\u001b[0;34m-\u001b[0m\u001b[0;36m1\u001b[0m\u001b[0;34m:\u001b[0m\u001b[0;34m\u001b[0m\u001b[0;34m\u001b[0m\u001b[0m\n\u001b[0m\u001b[1;32m      5\u001b[0m     \u001b[0;31m# print(cal_database[list(set_l)[i]][0])\u001b[0m\u001b[0;34m\u001b[0m\u001b[0;34m\u001b[0m\u001b[0;34m\u001b[0m\u001b[0m\n\u001b[1;32m      6\u001b[0m     \u001b[0mstr_f\u001b[0m \u001b[0;34m+=\u001b[0m \u001b[0;34mf\"{cal_database[list(set_l)[i]][0]},\"\u001b[0m\u001b[0;34m\u001b[0m\u001b[0;34m\u001b[0m\u001b[0m\n",
            "\u001b[0;31mNameError\u001b[0m: name 'set_l' is not defined"
          ]
        }
      ]
    },
    {
      "cell_type": "code",
      "metadata": {
        "id": "KVsPHWUz0G0A",
        "colab": {
          "base_uri": "https://localhost:8080/"
        },
        "outputId": "8f818193-570f-4703-b118-8b567d171a7d"
      },
      "source": [
        "# 詢問份數 假設回傳 4,4\n",
        "food_count_s = \"0.5/2/3\"\n",
        "food_count_l = food_count_s.split(\"/\")\n",
        "print(food_count_l)\n",
        "\n",
        "total_cal = 0\n",
        "for i in range(len(list(set_l))):\n",
        "  print(f\"{cal_database[list(set_l)[i]][0]}熱量：{cal_database[list(set_l)[i]][1]}\")\n",
        "  total_cal += float(food_count_l[i])*float(cal_database[list(set_l)[i]][1])\n",
        "\n",
        "print(total_cal)"
      ],
      "execution_count": 6,
      "outputs": [
        {
          "output_type": "stream",
          "text": [
            "['0.5', '2', '3']\n",
            "漢堡熱量：250\n",
            "蛋餅熱量：280\n",
            "飲料熱量：500\n",
            "2185.0\n"
          ],
          "name": "stdout"
        }
      ]
    },
    {
      "cell_type": "code",
      "metadata": {
        "id": "qPoO2OzO7FTz",
        "colab": {
          "base_uri": "https://localhost:8080/"
        },
        "outputId": "353dc2d2-2526-4730-fa2a-9d0081212754"
      },
      "source": [
        "# 文字熱量\n",
        "cal_dataset = {\"麵包\":\"300\", \"漢堡\":\"500\"}\n",
        "user_input = \"牛肉漢堡\"\n",
        "c_l = cal_dataset.keys()\n",
        "print(type(c_l))\n",
        "print(c_l)\n",
        "\n",
        "for i in c_l:\n",
        "  if i in user_input:\n",
        "    print(i)\n",
        "\n",
        "print(f'{user_input}的熱量約{cal_dataset[i]}大卡')"
      ],
      "execution_count": 7,
      "outputs": [
        {
          "output_type": "stream",
          "text": [
            "<class 'dict_keys'>\n",
            "dict_keys(['麵包', '漢堡'])\n",
            "漢堡\n",
            "牛肉漢堡的熱量約500大卡\n"
          ],
          "name": "stdout"
        }
      ]
    },
    {
      "cell_type": "markdown",
      "metadata": {
        "id": "5yzNd8_oIONI"
      },
      "source": [
        "--------------------------------------------------------------------------"
      ]
    },
    {
      "cell_type": "markdown",
      "metadata": {
        "id": "x1N_qo5WIOhb"
      },
      "source": [
        "--------------------------------------------------------------------------"
      ]
    },
    {
      "cell_type": "code",
      "metadata": {
        "colab": {
          "base_uri": "https://localhost:8080/"
        },
        "id": "ctDEpTzg34ta",
        "outputId": "18b25dc7-f14f-4ef3-cd95-e76b913f9bc2"
      },
      "source": [
        "!unzip \"封存.zip\""
      ],
      "execution_count": 1,
      "outputs": [
        {
          "output_type": "stream",
          "text": [
            "Archive:  封存.zip\n",
            "   creating: 2021-07-14/\n",
            "  inflating: 2021-07-14/daily_total.txt  \n",
            "  inflating: __MACOSX/2021-07-14/._daily_total.txt  \n",
            "   creating: 2021-07-15/\n",
            "  inflating: 2021-07-15/daily_total.txt  \n",
            "  inflating: __MACOSX/2021-07-15/._daily_total.txt  \n",
            "   creating: 2021-07-16/\n",
            "  inflating: 2021-07-16/daily_total.txt  \n",
            "  inflating: __MACOSX/2021-07-16/._daily_total.txt  \n",
            "   creating: 2021-07-17/\n",
            "  inflating: 2021-07-17/daily_total.txt  \n",
            "  inflating: __MACOSX/2021-07-17/._daily_total.txt  \n",
            "   creating: 2021-07-18/\n",
            "  inflating: 2021-07-18/daily_total.txt  \n",
            "  inflating: __MACOSX/2021-07-18/._daily_total.txt  \n",
            "  inflating: date_tdee.txt           \n",
            "  inflating: __MACOSX/._date_tdee.txt  \n",
            "  inflating: input_date.txt          \n",
            "  inflating: __MACOSX/._input_date.txt  \n"
          ],
          "name": "stdout"
        }
      ]
    },
    {
      "cell_type": "code",
      "metadata": {
        "colab": {
          "base_uri": "https://localhost:8080/"
        },
        "id": "_m9mdulfd4Ap",
        "outputId": "7ae37d0d-e490-4e03-e0bf-9ff135bd5c52"
      },
      "source": [
        "# 取出“所有”更新過TDEE的日期 放入 tdee_input_date列表\n",
        "# 將對應的日期與TDEE 放入 date_tdee_value字典\n",
        "f = open(\"date_tdee.txt\")\n",
        "data = f.read().splitlines()\n",
        "print(data)\n",
        "\n",
        "date_tdee_value = {}\n",
        "tdee_input_date =[]\n",
        "\n",
        "for i in data:\n",
        "  tdee_input_date.append(i.split(\",\")[0])\n",
        "  date_tdee_value[i.split(\",\")[0]] = i.split(\",\")[1]\n",
        "date1 = tdee_input_date[-2]\n",
        "date2 = tdee_input_date[-1]\n",
        "# print(date1, date2)\n",
        "\n",
        "print(f\"tdee_input_date列表: {tdee_input_date}\")\n",
        "print(f\"date_tdee_value字典: {date_tdee_value}\") # 字典=> TDEE輸入日期：TDEE"
      ],
      "execution_count": 2,
      "outputs": [
        {
          "output_type": "stream",
          "text": [
            "['2021-06-01,2000', '2021-07-01,2500', '2021-07-16,3000']\n",
            "tdee_input_date列表: ['2021-06-01', '2021-07-01', '2021-07-16']\n",
            "date_tdee_value字典: {'2021-06-01': '2000', '2021-07-01': '2500', '2021-07-16': '3000'}\n"
          ],
          "name": "stdout"
        }
      ]
    },
    {
      "cell_type": "code",
      "metadata": {
        "id": "wkAvdJQ1rwEj"
      },
      "source": [
        "# 可以取出兩個日期之間的其他日期，包含“最尾的日期”\n",
        "def count_window(datex, datey):\n",
        "  # 取出用戶選取的區間日期\n",
        "  import time  # 引入time\n",
        "  def rm0(r):\n",
        "      timeString = r  # 時間格式為字串\n",
        "      struct_time = time.strptime(timeString, \"%Y-%m-%d\")  # 轉成時間元組\n",
        "      time_stamp = int(time.mktime(struct_time))  # 轉成時間戳\n",
        "      # print(time_stamp)\n",
        "      date = time.strftime('%Y-%-m-%-d', time.localtime(time_stamp))\n",
        "      return date\n",
        "  rmx = rm0(datex)\n",
        "  rmy = rm0(datey)\n",
        "  x_l = rmx.split(\"-\")\n",
        "  y_l = rmy.split(\"-\")\n",
        "  # print(\"x_l:\", x_l)\n",
        "  # print(\"y_l:\", y_l)\n",
        "  import datetime\n",
        "  a = datetime.date(int(x_l[0]), int(x_l[1]), int(x_l[2]))\n",
        "  b = datetime.date(int(y_l[0]), int(y_l[1]), int(y_l[2]))\n",
        "  user_choose_total = []\n",
        "  print(a.toordinal(), b.toordinal())\n",
        "  for i in range(a.toordinal(), b.toordinal()):\n",
        "      # print(str(datetime.date.fromordinal(i)))\n",
        "      user_choose_total.append(str(datetime.date.fromordinal(i)))\n",
        "  user_choose_total.append(user_choose2)\n",
        "  return user_choose_total"
      ],
      "execution_count": 3,
      "outputs": []
    },
    {
      "cell_type": "code",
      "metadata": {
        "colab": {
          "base_uri": "https://localhost:8080/"
        },
        "id": "umj-_WbTPCJy",
        "outputId": "3698c1e7-35a5-4edf-f18e-99172b287a0d"
      },
      "source": [
        "user_choose1 = \"0001-07-13\"\n",
        "user_choose2 = \"2021-07-18\"\n",
        "  # 取出用戶選取的區間日期\n",
        "import time  # 引入time\n",
        "def rm0(r):\n",
        "    timeString = r  # 時間格式為字串\n",
        "    struct_time = time.strptime(timeString, \"%Y-%m-%d\")  # 轉成時間元組\n",
        "    time_stamp = int(time.mktime(struct_time))  # 轉成時間戳\n",
        "    # print(time_stamp)\n",
        "    date = time.strftime('%Y-%-m-%-d', time.localtime(time_stamp))\n",
        "    return date\n",
        "rmx = rm0(user_choose1)\n",
        "rmy = rm0(user_choose2)\n",
        "x_l = rmx.split(\"-\")\n",
        "y_l = rmy.split(\"-\")\n",
        "# print(\"x_l:\", x_l)\n",
        "# print(\"y_l:\", y_l)\n",
        "import datetime\n",
        "a = datetime.date(int(x_l[0]), int(x_l[1]), int(x_l[2]))\n",
        "b = datetime.date(int(y_l[0]), int(y_l[1]), int(y_l[2]))\n",
        "user_choose_total = []\n",
        "print(a,b)\n",
        "\n",
        "print(a.toordinal(), b.toordinal())\n",
        "print(type(a.toordinal()))\n",
        "for i in range(a.toordinal(), b.toordinal()):\n",
        "    # print(str(datetime.date.fromordinal(i)))\n",
        "    user_choose_total.append(str(datetime.date.fromordinal(i)))\n",
        "user_choose_total.append(user_choose2)\n",
        "print(user_choose_total)"
      ],
      "execution_count": 4,
      "outputs": [
        {
          "output_type": "stream",
          "text": [
            "0001-07-13 2021-07-18\n",
            "194 737989\n",
            "<class 'int'>\n"
          ],
          "name": "stdout"
        },
        {
          "output_type": "stream",
          "text": [
            "IOPub data rate exceeded.\n",
            "The notebook server will temporarily stop sending output\n",
            "to the client in order to avoid crashing it.\n",
            "To change this limit, set the config variable\n",
            "`--NotebookApp.iopub_data_rate_limit`.\n",
            "\n",
            "Current values:\n",
            "NotebookApp.iopub_data_rate_limit=1000000.0 (bytes/sec)\n",
            "NotebookApp.rate_limit_window=3.0 (secs)\n",
            "\n"
          ],
          "name": "stderr"
        }
      ]
    },
    {
      "cell_type": "code",
      "metadata": {
        "colab": {
          "base_uri": "https://localhost:8080/"
        },
        "id": "YAQuFqz4w8JH",
        "outputId": "56b1fa00-0bed-4694-ec88-900a1ed574b9"
      },
      "source": [
        "# 計算用戶選取的日期區間\n",
        "user_choose1 = \"2021-07-13\"\n",
        "user_choose2 = \"2021-07-19\"\n",
        "user_choose_list = count_window(user_choose1, user_choose2)\n",
        "print(user_choose_list)"
      ],
      "execution_count": 5,
      "outputs": [
        {
          "output_type": "stream",
          "text": [
            "737984 737990\n",
            "['2021-07-13', '2021-07-14', '2021-07-15', '2021-07-16', '2021-07-17', '2021-07-18', '2021-07-19']\n"
          ],
          "name": "stdout"
        }
      ]
    },
    {
      "cell_type": "code",
      "metadata": {
        "colab": {
          "base_uri": "https://localhost:8080/"
        },
        "id": "MVUqqRNXsxpZ",
        "outputId": "61f9c6b7-efc4-41cf-e54f-2792f7744a7b"
      },
      "source": [
        "# 看 tdee_input_date(輸入過TDEE的日期) 的哪天在 user_choose_list(用戶選取區間)裡\n",
        "tdee_count = []\n",
        "for i in tdee_input_date:\n",
        "  if i in user_choose_list:\n",
        "    tdee_count.append(i)\n",
        "print(f\"包含到的日子有：{tdee_count}\")\n",
        "\n",
        "## 如果剛好沒有框到輸入TDEE的日期，\n",
        "## 用迴圈確定使用者標註的第一天是否在某兩個輸入TDEE的區間，若是則取輸入TDEE的前者\n",
        "if len(tdee_count) == 0:\n",
        "  for i in range(len(tdee_input_date)-1):\n",
        "    bb = count_window(tdee_input_date[i], tdee_input_date[i+1]) \n",
        "    # print(bb)\n",
        "    if user_choose_list[0] in bb:\n",
        "      print(tdee_input_date[i])\n",
        "\n",
        "  tdee_value = date_tdee_value[tdee_input_date[i]]\n",
        "  print(tdee_value)\n",
        "\n",
        "  tdee_choose_date = {}\n",
        "  tdee_choose_date[tdee_input_date[i]]=user_choose_list\n",
        "  print(tdee_choose_date)\n",
        "\n",
        "  tdee_count.append(tdee_input_date[i])\n",
        "  print(f\"tdee_count新增後: {tdee_count}\")\n",
        "\n",
        "# 如果只有一天，需取 “前一次輸入TDEE的時間“\n",
        "# date_tdee_value字典: {'2021-06-01': '2000', '2021-07-01': '2500', '2021-07-16': '3000'}\n",
        "elif len(tdee_count) == 1:\n",
        "  \n",
        "  # print(tdee_input_date.index(tdee_count[0]))\n",
        "\n",
        "  tdee_index = user_choose_list.index(tdee_count[0]) #  包含到的日期的index\n",
        "\n",
        "  user_choose_list1 = user_choose_list[:tdee_index] # 已包含到的日期去做分界\n",
        "  print(f\"前區間: {user_choose_list1}\")\n",
        "  \n",
        "  print(f'tdee_count新增前: {tdee_count}')\n",
        "  tdee_count.insert(0,tdee_input_date[tdee_input_date.index(tdee_count[0])-1]) # 把前一個輸入TDEE的日期 插入第0位\n",
        "  print(f'tdee_count新增後: {tdee_count}')\n",
        "\n",
        "  user_choose_list2 = user_choose_list[tdee_index:] # 已包含到的日期去做分界\n",
        "  print(f\"後區間: {user_choose_list2}\")\n",
        "  \n",
        "  tdee_choose_date = {}\n",
        "  tdee_choose_date[tdee_count[0]] = user_choose_list1 # 將 前一個輸入TDEE的日期：前區間 寫入字典 tdee_choose_date\n",
        "  tdee_choose_date[tdee_count[1]] = user_choose_list2 # 將 有被包含到的TDEE的日期：後區間 寫入字典 tdee_choose_date\n",
        "  print(tdee_choose_date)\n",
        "\n",
        "  # date_tdee_value字典: {'2021-06-01': '2000', '2021-07-01': '2500', '2021-07-16': '3000'}\n",
        "  # tdee_input_date列表: ['2021-06-01', '2021-07-01', '2021-07-16']"
      ],
      "execution_count": 6,
      "outputs": [
        {
          "output_type": "stream",
          "text": [
            "包含到的日子有：['2021-07-16']\n",
            "前區間: ['2021-07-13', '2021-07-14', '2021-07-15']\n",
            "tdee_count新增前: ['2021-07-16']\n",
            "tdee_count新增後: ['2021-07-01', '2021-07-16']\n",
            "後區間: ['2021-07-16', '2021-07-17', '2021-07-18', '2021-07-19']\n",
            "{'2021-07-01': ['2021-07-13', '2021-07-14', '2021-07-15'], '2021-07-16': ['2021-07-16', '2021-07-17', '2021-07-18', '2021-07-19']}\n"
          ],
          "name": "stdout"
        }
      ]
    },
    {
      "cell_type": "code",
      "metadata": {
        "colab": {
          "base_uri": "https://localhost:8080/"
        },
        "id": "3FmNg0Y3--lU",
        "outputId": "d08c2d4a-5ff5-4fbf-dd12-48819cb4a1b7"
      },
      "source": [
        "ussr_choose_list_1 = []\n",
        "user_input_record_date = []\n",
        "user_TDEE = []\n",
        "for i in tdee_count:\n",
        "  if i in tdee_choose_date.keys():\n",
        "    # print(tdee_choose_date[i])\n",
        "    # print(i)   \n",
        "\n",
        "    for j in range(len(tdee_choose_date[i])):\n",
        "      try:\n",
        "        f = open(f\"/content/{tdee_choose_date[i][j]}/daily_total.txt\")\n",
        "        data = f.read().splitlines()\n",
        "        # print(tdee_choose_date[i][j])\n",
        "        user_input_record_date.append(tdee_choose_date[i][j])\n",
        "        # print(f\"data: {data}\")\n",
        "        # print(type(data))\n",
        "        # print(\"-\"*30)\n",
        "        \n",
        "        # date_tdee_value字典: {'2021-06-01': '2000', '2021-07-01': '2500', '2021-07-16': '3000'}     \n",
        "        user_TDEE.append(date_tdee_value[i])\n",
        "\n",
        "        ## 計算一天總熱量\n",
        "        total = 0\n",
        "        for k in data:\n",
        "          total += float(k)\n",
        "        ussr_choose_list_1.append(total)\n",
        "          # print(f\"紀錄完成: {ussr_choose_list_1}\")\n",
        "          # print(\"-\"*30)\n",
        "      except:\n",
        "        pass\n",
        "  ussr_choose_list_1=ussr_choose_list_1\n",
        "print(f\"使用者輸入日期對應的單日總熱量：{ussr_choose_list_1}\")\n",
        "print(f\"使用者有紀錄的輸入日期：{user_input_record_date}\")\n",
        "print(f\"使用者在同樣順序的日期時的TDEE：{user_TDEE}\")\n",
        "\n",
        "difference_cal_TDEE = []\n",
        "for i in range(len(ussr_choose_list_1)):\n",
        "  dif_value = float(ussr_choose_list_1[i]-float(user_TDEE[i]))\n",
        "  difference_cal_TDEE.append(dif_value)\n",
        "print(difference_cal_TDEE)"
      ],
      "execution_count": 7,
      "outputs": [
        {
          "output_type": "stream",
          "text": [
            "使用者輸入日期對應的單日總熱量：[1400.0, 1500.0, 1600.0, 1700.0, 1800.0]\n",
            "使用者有紀錄的輸入日期：['2021-07-14', '2021-07-15', '2021-07-16', '2021-07-17', '2021-07-18']\n",
            "使用者在同樣順序的日期時的TDEE：['2500', '2500', '3000', '3000', '3000']\n",
            "[-1100.0, -1000.0, -1400.0, -1300.0, -1200.0]\n"
          ],
          "name": "stdout"
        }
      ]
    },
    {
      "cell_type": "code",
      "metadata": {
        "colab": {
          "base_uri": "https://localhost:8080/",
          "height": 292
        },
        "id": "0MX2YyEi3QHD",
        "outputId": "68a9b3ca-f0bf-471c-e2de-a413da9e7507"
      },
      "source": [
        "import matplotlib.pyplot as plt\n",
        "from matplotlib.font_manager import FontProperties\n",
        "# 柱狀圖\n",
        "plt.bar(user_input_record_date, ussr_choose_list_1, label='daily calories', align=\"center\", alpha=0.3)\n",
        "# plt.plot(user_input_record_date, ussr_choose_list_1, label='daily calories', align=\"center\", alpha=0.3)\n",
        "# plt.scatter(user_input_record_date, ussr_choose_list_1, label='daily calories', align=\"center\", alpha=0.3)\n",
        "for a, b in zip(user_input_record_date,ussr_choose_list_1):  \n",
        " plt.text(a, b-100, int(b), ha='center',fontsize=11)\n",
        "#  plt.text(a, b+50, '%.0f' % b, ha='center',fontsize=11)\n",
        "\n",
        "plt.bar(user_input_record_date, difference_cal_TDEE, label='daily calories-TDEE', align=\"center\", alpha=0.3)\n",
        "for a,b in zip(user_input_record_date,difference_cal_TDEE):  \n",
        " plt.text(a, b+50, int(b), ha='center',fontsize=11)\n",
        "\n",
        "font = FontProperties(fname=r\"simsun.ttc\")\n",
        "\n",
        "plt.xlabel(\"日期\", fontproperties = font)  #设置X轴Y轴名称  \n",
        "plt.ylabel(\"熱量(大卡)\", fontproperties = font )  \n",
        "plt.title(\"熱量＆時間\", fontproperties = font)\n",
        "\n",
        "ymax = max(ussr_choose_list_1)+1000\n",
        "ymin = min(difference_cal_TDEE)-500\n",
        "\n",
        "plt.ylim([ymin, ymax])\n",
        "\n",
        "plt.legend()\n",
        "# 先存圖\n",
        "plt.savefig('./123.jpg')\n",
        "# 貼出圖\n",
        "plt.show()"
      ],
      "execution_count": 38,
      "outputs": [
        {
          "output_type": "display_data",
          "data": {
            "image/png": "[encoded data removed]",
            "text/plain": [
              "<Figure size 432x288 with 1 Axes>"
            ]
          },
          "metadata": {
            "tags": [],
            "needs_background": "light"
          }
        }
      ]
    }
  ]
}