{
  "nbformat": 4,
  "nbformat_minor": 0,
  "metadata": {
    "colab": {
      "name": "func.ipynb",
      "provenance": [],
      "authorship_tag": "ABX9TyMjsq5nOTZzQIw8v37M3UMV",
      "include_colab_link": true
    },
    "kernelspec": {
      "name": "python3",
      "display_name": "Python 3"
    },
    "language_info": {
      "name": "python"
    }
  },
  "cells": [
    {
      "cell_type": "markdown",
      "metadata": {
        "id": "view-in-github",
        "colab_type": "text"
      },
      "source": [
        "<a href=\"https://colab.research.google.com/github/Ron-Wu/Machine-learning-0602/blob/main/func.ipynb\" target=\"_parent\"><img src=\"https://colab.research.google.com/assets/colab-badge.svg\" alt=\"Open In Colab\"/></a>"
      ]
    },
    {
      "cell_type": "code",
      "metadata": {
        "colab": {
          "base_uri": "https://localhost:8080/"
        },
        "id": "v79Bbw863zFk",
        "outputId": "73290853-12ec-4d70-c5eb-657ee8a877dd"
      },
      "source": [
        "int(4.5)"
      ],
      "execution_count": 10,
      "outputs": [
        {
          "output_type": "execute_result",
          "data": {
            "text/plain": [
              "4"
            ]
          },
          "metadata": {
            "tags": []
          },
          "execution_count": 10
        }
      ]
    },
    {
      "cell_type": "code",
      "metadata": {
        "colab": {
          "base_uri": "https://localhost:8080/"
        },
        "id": "34KdNqPP365W",
        "outputId": "a7b0711f-2abe-43ac-c510-df2f98f76b3b"
      },
      "source": [
        "# python: 所有東西皆為物件 => 所有東西都有資料型態\n",
        "# 函式: int -> 步驟資料(SOP) (4:5): 執行並且帶入參數\n",
        "#.    dic -> 字典資料    [key]: 操作\n",
        "# a + b: a.__add__(b) \n",
        "a = int\n",
        "a(5.5)\n",
        "def test():\n",
        "  return int\n",
        "test()(8.666)"
      ],
      "execution_count": 11,
      "outputs": [
        {
          "output_type": "execute_result",
          "data": {
            "text/plain": [
              "8"
            ]
          },
          "metadata": {
            "tags": []
          },
          "execution_count": 11
        }
      ]
    },
    {
      "cell_type": "code",
      "metadata": {
        "colab": {
          "base_uri": "https://localhost:8080/"
        },
        "id": "N_dzg2se74GZ",
        "outputId": "5ff22d3d-3fe7-4c6d-c724-61f4e2943567"
      },
      "source": [
        "class Person:\n",
        "  def __init__(self, h, w):\n",
        "    self.h = h\n",
        "    self.w = w\n",
        "\n",
        "b = Person\n",
        "p1 = b(160, 90)\n",
        "p1.h"
      ],
      "execution_count": 12,
      "outputs": [
        {
          "output_type": "execute_result",
          "data": {
            "text/plain": [
              "160"
            ]
          },
          "metadata": {
            "tags": []
          },
          "execution_count": 12
        }
      ]
    },
    {
      "cell_type": "code",
      "metadata": {
        "colab": {
          "base_uri": "https://localhost:8080/"
        },
        "id": "38pcAkaW8MRp",
        "outputId": "616f01d8-0e1c-4a76-e497-bbe8260cb1bf"
      },
      "source": [
        "import random\n",
        "print(type(random.randint))\n",
        "print(type(Person))\n",
        "print(type(p1))\n",
        "print(type(None))"
      ],
      "execution_count": 17,
      "outputs": [
        {
          "output_type": "stream",
          "text": [
            "<class 'method'>\n",
            "<class 'type'>\n",
            "<class '__main__.Person'>\n",
            "<class 'NoneType'>\n"
          ],
          "name": "stdout"
        }
      ]
    },
    {
      "cell_type": "code",
      "metadata": {
        "colab": {
          "base_uri": "https://localhost:8080/",
          "height": 199
        },
        "id": "SNbjffF1TYBD",
        "outputId": "0eebd32e-1359-470a-88e8-4e8e37726482"
      },
      "source": [
        "# class : 自創資料\n",
        "# https://docs.python.org/3/reference/datamodel.html#basic-customization\n",
        "class Person:\n",
        "\n",
        "    def __init__(self, h, w, y):\n",
        "        self.height = h\n",
        "        self.weight = w\n",
        "        self.age = y\n",
        "\n",
        "    def calculate_bmi(self):\n",
        "        bmi = self.weight / (self.height / 100) ** 2\n",
        "        return bmi\n",
        "\n",
        "    def __str__(self):\n",
        "        return \"bmi:\" + str(self.calculate_bmi())\n",
        "\n",
        "    def __eq__(self, other):\n",
        "        print(\"here:\", self.height, other.height)\n",
        "        return self.height == other.height\n",
        "\n",
        "    def age(self):\n",
        "        age = self.age*2\n",
        "        return str(age)\n",
        "\n",
        "# p1 = Person(175, 75)\n",
        "# print(p1.calculate_bmi())\n",
        "# p2 = Person(175, 80)\n",
        "# print(p2.calculate_bmi())\n",
        "# # print -> str(p1) -> p1.__str__()\n",
        "# print(p1)\n",
        "# # p1.__eq__(p2)\n",
        "# print(p1 == p2)\n",
        "p3 = Person(200,200,5)\n",
        "print(p3.age())"
      ],
      "execution_count": 29,
      "outputs": [
        {
          "output_type": "error",
          "ename": "TypeError",
          "evalue": "ignored",
          "traceback": [
            "\u001b[0;31m---------------------------------------------------------------------------\u001b[0m",
            "\u001b[0;31mTypeError\u001b[0m                                 Traceback (most recent call last)",
            "\u001b[0;32m<ipython-input-29-945071c53190>\u001b[0m in \u001b[0;36m<module>\u001b[0;34m()\u001b[0m\n\u001b[1;32m     32\u001b[0m \u001b[0;31m# print(p1 == p2)\u001b[0m\u001b[0;34m\u001b[0m\u001b[0;34m\u001b[0m\u001b[0;34m\u001b[0m\u001b[0m\n\u001b[1;32m     33\u001b[0m \u001b[0mp3\u001b[0m \u001b[0;34m=\u001b[0m \u001b[0mPerson\u001b[0m\u001b[0;34m(\u001b[0m\u001b[0;36m200\u001b[0m\u001b[0;34m,\u001b[0m\u001b[0;36m200\u001b[0m\u001b[0;34m,\u001b[0m\u001b[0;36m5\u001b[0m\u001b[0;34m)\u001b[0m\u001b[0;34m\u001b[0m\u001b[0;34m\u001b[0m\u001b[0m\n\u001b[0;32m---> 34\u001b[0;31m \u001b[0mprint\u001b[0m\u001b[0;34m(\u001b[0m\u001b[0mp3\u001b[0m\u001b[0;34m.\u001b[0m\u001b[0mage\u001b[0m\u001b[0;34m(\u001b[0m\u001b[0;34m)\u001b[0m\u001b[0;34m)\u001b[0m\u001b[0;34m\u001b[0m\u001b[0;34m\u001b[0m\u001b[0m\n\u001b[0m",
            "\u001b[0;31mTypeError\u001b[0m: 'int' object is not callable"
          ]
        }
      ]
    },
    {
      "cell_type": "code",
      "metadata": {
        "id": "BFNSauXqWj3h"
      },
      "source": [
        ""
      ],
      "execution_count": null,
      "outputs": []
    }
  ]
}