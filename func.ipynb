{
  "nbformat": 4,
  "nbformat_minor": 0,
  "metadata": {
    "colab": {
      "name": "func.ipynb",
      "provenance": [],
      "authorship_tag": "ABX9TyNIFk3qblPMAdHua+oMkqv3",
      "include_colab_link": true
    },
    "kernelspec": {
      "name": "python3",
      "display_name": "Python 3"
    },
    "language_info": {
      "name": "python"
    }
  },
  "cells": [
    {
      "cell_type": "markdown",
      "metadata": {
        "id": "view-in-github",
        "colab_type": "text"
      },
      "source": [
        "<a href=\"https://colab.research.google.com/github/Ron-Wu/Machine-learning-0602/blob/main/func.ipynb\" target=\"_parent\"><img src=\"https://colab.research.google.com/assets/colab-badge.svg\" alt=\"Open In Colab\"/></a>"
      ]
    },
    {
      "cell_type": "code",
      "metadata": {
        "colab": {
          "base_uri": "https://localhost:8080/"
        },
        "id": "v79Bbw863zFk",
        "outputId": "73290853-12ec-4d70-c5eb-657ee8a877dd"
      },
      "source": [
        "int(4.5)"
      ],
      "execution_count": 10,
      "outputs": [
        {
          "output_type": "execute_result",
          "data": {
            "text/plain": [
              "4"
            ]
          },
          "metadata": {
            "tags": []
          },
          "execution_count": 10
        }
      ]
    },
    {
      "cell_type": "code",
      "metadata": {
        "colab": {
          "base_uri": "https://localhost:8080/"
        },
        "id": "34KdNqPP365W",
        "outputId": "a7b0711f-2abe-43ac-c510-df2f98f76b3b"
      },
      "source": [
        "# python: 所有東西皆為物件 => 所有東西都有資料型態\n",
        "# 函式: int -> 步驟資料(SOP) (4:5): 執行並且帶入參數\n",
        "#.    dic -> 字典資料    [key]: 操作\n",
        "# a + b: a.__add__(b) \n",
        "a = int\n",
        "a(5.5)\n",
        "def test():\n",
        "  return int\n",
        "test()(8.666)"
      ],
      "execution_count": 11,
      "outputs": [
        {
          "output_type": "execute_result",
          "data": {
            "text/plain": [
              "8"
            ]
          },
          "metadata": {
            "tags": []
          },
          "execution_count": 11
        }
      ]
    },
    {
      "cell_type": "code",
      "metadata": {
        "colab": {
          "base_uri": "https://localhost:8080/"
        },
        "id": "N_dzg2se74GZ",
        "outputId": "5ff22d3d-3fe7-4c6d-c724-61f4e2943567"
      },
      "source": [
        "class Person:\n",
        "  def __init__(self, h, w):\n",
        "    self.h = h\n",
        "    self.w = w\n",
        "\n",
        "b = Person\n",
        "p1 = b(160, 90)\n",
        "p1.h"
      ],
      "execution_count": 12,
      "outputs": [
        {
          "output_type": "execute_result",
          "data": {
            "text/plain": [
              "160"
            ]
          },
          "metadata": {
            "tags": []
          },
          "execution_count": 12
        }
      ]
    },
    {
      "cell_type": "code",
      "metadata": {
        "colab": {
          "base_uri": "https://localhost:8080/"
        },
        "id": "38pcAkaW8MRp",
        "outputId": "616f01d8-0e1c-4a76-e497-bbe8260cb1bf"
      },
      "source": [
        "import random\n",
        "print(type(random.randint))\n",
        "print(type(Person))\n",
        "print(type(p1))\n",
        "print(type(None))"
      ],
      "execution_count": 17,
      "outputs": [
        {
          "output_type": "stream",
          "text": [
            "<class 'method'>\n",
            "<class 'type'>\n",
            "<class '__main__.Person'>\n",
            "<class 'NoneType'>\n"
          ],
          "name": "stdout"
        }
      ]
    }
  ]
}