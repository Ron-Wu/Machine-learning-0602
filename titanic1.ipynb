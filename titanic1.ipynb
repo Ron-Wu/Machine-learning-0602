{
  "nbformat": 4,
  "nbformat_minor": 0,
  "metadata": {
    "colab": {
      "name": "titanic1.ipynb",
      "provenance": [],
      "collapsed_sections": [],
      "authorship_tag": "ABX9TyMOcGHltGh0Gdg7zJ9pZtIc",
      "include_colab_link": true
    },
    "kernelspec": {
      "name": "python3",
      "display_name": "Python 3"
    },
    "language_info": {
      "name": "python"
    }
  },
  "cells": [
    {
      "cell_type": "markdown",
      "metadata": {
        "id": "view-in-github",
        "colab_type": "text"
      },
      "source": [
        "<a href=\"https://colab.research.google.com/github/Ron-Wu/Machine-learning-0602/blob/main/titanic1.ipynb\" target=\"_parent\"><img src=\"https://colab.research.google.com/assets/colab-badge.svg\" alt=\"Open In Colab\"/></a>"
      ]
    },
    {
      "cell_type": "code",
      "metadata": {
        "colab": {
          "base_uri": "https://localhost:8080/"
        },
        "id": "FWSCUkfEo3FC",
        "outputId": "0f0ac3a7-21e4-465f-815c-2f489bfc54a8"
      },
      "source": [
        "from urllib.request import urlretrieve\n",
        "url = \"https://github.com/Ron-Wu/Machine-learning-0602/raw/main/titanic/train.csv\"\n",
        "urlretrieve(url, \"train.csv\")\n",
        "url = \"https://github.com/Ron-Wu/Machine-learning-0602/raw/main/titanic/test.csv\"\n",
        "urlretrieve(url, \"test.csv\")"
      ],
      "execution_count": 15,
      "outputs": [
        {
          "output_type": "execute_result",
          "data": {
            "text/plain": [
              "('test.csv', <http.client.HTTPMessage at 0x7fe479105550>)"
            ]
          },
          "metadata": {
            "tags": []
          },
          "execution_count": 15
        }
      ]
    },
    {
      "cell_type": "code",
      "metadata": {
        "id": "dntdB2n5pwLZ"
      },
      "source": [
        "import pandas as pd\n",
        "train_df = pd.read_csv(\"train.csv\", encoding = \"utf-8\")\n",
        "test_df = pd.read_csv(\"test.csv\", encoding = \"utf-8\")"
      ],
      "execution_count": 16,
      "outputs": []
    },
    {
      "cell_type": "code",
      "metadata": {
        "id": "sDPEmaPLqLdQ"
      },
      "source": [
        "# train_df  # 測試看是否有成功列出訓練資料\n",
        "# test_df  # 測試看是否有成功列出測試資料"
      ],
      "execution_count": 17,
      "outputs": []
    },
    {
      "cell_type": "code",
      "metadata": {
        "id": "t6VQmpszPeYE"
      },
      "source": [
        "data = pd.concat([train_df, test_df], ignore_index = True)\n",
        "data = data.drop([\"PassengerId\", \"Survived\"], axis = 1)\n",
        "\n",
        "# data = pd.concat([train_df, test_df], ignore_index=True)\n",
        "# data = data.drop([\"PassengerId\", \"Survived\"], axis=1)"
      ],
      "execution_count": 18,
      "outputs": []
    },
    {
      "cell_type": "code",
      "metadata": {
        "colab": {
          "base_uri": "https://localhost:8080/"
        },
        "id": "EJf6G5Y8qli9",
        "outputId": "58f4fa64-1e47-459d-ff85-423d4a5e783b"
      },
      "source": [
        "na = data.isna().sum()\n",
        "# series[帶入跟你的資料筆數一樣多True/False list]\n",
        "na[na > 0].sort_values()\n",
        "# na[na > 0].sort_values(ascending=False)  ## ascending=False 讓資料倒序"
      ],
      "execution_count": 19,
      "outputs": [
        {
          "output_type": "execute_result",
          "data": {
            "text/plain": [
              "Fare           1\n",
              "Embarked       2\n",
              "Age          263\n",
              "Cabin       1014\n",
              "dtype: int64"
            ]
          },
          "metadata": {
            "tags": []
          },
          "execution_count": 19
        }
      ]
    },
    {
      "cell_type": "code",
      "metadata": {
        "id": "HuzkB67BVNBb",
        "colab": {
          "base_uri": "https://localhost:8080/"
        },
        "outputId": "cce0a20a-eeda-4542-cfef-a501bf3b7a50"
      },
      "source": [
        "def cabin_head(s):\n",
        "  if not pd.isna(s):\n",
        "    return s[0]\n",
        "data[\"Cabin\"] = data[\"Cabin\"].apply(cabin_head)"
      ],
      "execution_count": 21,
      "outputs": [
        {
          "output_type": "execute_result",
          "data": {
            "text/plain": [
              "0       None\n",
              "1          C\n",
              "2       None\n",
              "3          C\n",
              "4       None\n",
              "        ... \n",
              "1304    None\n",
              "1305       C\n",
              "1306    None\n",
              "1307    None\n",
              "1308    None\n",
              "Name: Cabin, Length: 1309, dtype: object"
            ]
          },
          "metadata": {
            "tags": []
          },
          "execution_count": 21
        }
      ]
    },
    {
      "cell_type": "code",
      "metadata": {
        "colab": {
          "base_uri": "https://localhost:8080/"
        },
        "id": "dMJOZ8ymXKhH",
        "outputId": "8acebbd2-bee1-463a-822e-3faa178276d1"
      },
      "source": [
        "dic = data[\"Ticket\"].value_counts()\n",
        "data[\"Ticket\"] = data[\"Ticket\"].apply(lambda t:dic[t])"
      ],
      "execution_count": 22,
      "outputs": [
        {
          "output_type": "execute_result",
          "data": {
            "text/plain": [
              "0       1\n",
              "1       2\n",
              "2       1\n",
              "3       2\n",
              "4       1\n",
              "       ..\n",
              "1304    1\n",
              "1305    3\n",
              "1306    1\n",
              "1307    1\n",
              "1308    3\n",
              "Name: Ticket, Length: 1309, dtype: int64"
            ]
          },
          "metadata": {
            "tags": []
          },
          "execution_count": 22
        }
      ]
    }
  ]
}