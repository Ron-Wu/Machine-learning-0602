{
  "nbformat": 4,
  "nbformat_minor": 0,
  "metadata": {
    "colab": {
      "name": "titanic1.ipynb",
      "provenance": [],
      "collapsed_sections": [],
      "authorship_tag": "ABX9TyNy2Qb+BRM2iitBZ55kArUW",
      "include_colab_link": true
    },
    "kernelspec": {
      "name": "python3",
      "display_name": "Python 3"
    },
    "language_info": {
      "name": "python"
    }
  },
  "cells": [
    {
      "cell_type": "markdown",
      "metadata": {
        "id": "view-in-github",
        "colab_type": "text"
      },
      "source": [
        "<a href=\"https://colab.research.google.com/github/Ron-Wu/Machine-learning-0602/blob/main/titanic1.ipynb\" target=\"_parent\"><img src=\"https://colab.research.google.com/assets/colab-badge.svg\" alt=\"Open In Colab\"/></a>"
      ]
    },
    {
      "cell_type": "code",
      "metadata": {
        "colab": {
          "base_uri": "https://localhost:8080/"
        },
        "id": "FWSCUkfEo3FC",
        "outputId": "0f0ac3a7-21e4-465f-815c-2f489bfc54a8"
      },
      "source": [
        "from urllib.request import urlretrieve\n",
        "url = \"https://github.com/Ron-Wu/Machine-learning-0602/raw/main/titanic/train.csv\"\n",
        "urlretrieve(url, \"train.csv\")\n",
        "url = \"https://github.com/Ron-Wu/Machine-learning-0602/raw/main/titanic/test.csv\"\n",
        "urlretrieve(url, \"test.csv\")"
      ],
      "execution_count": 15,
      "outputs": [
        {
          "output_type": "execute_result",
          "data": {
            "text/plain": [
              "('test.csv', <http.client.HTTPMessage at 0x7fe479105550>)"
            ]
          },
          "metadata": {
            "tags": []
          },
          "execution_count": 15
        }
      ]
    },
    {
      "cell_type": "code",
      "metadata": {
        "id": "dntdB2n5pwLZ"
      },
      "source": [
        "import pandas as pd\n",
        "train_df = pd.read_csv(\"train.csv\", encoding = \"utf-8\")\n",
        "test_df = pd.read_csv(\"test.csv\", encoding = \"utf-8\")"
      ],
      "execution_count": 16,
      "outputs": []
    },
    {
      "cell_type": "code",
      "metadata": {
        "id": "sDPEmaPLqLdQ"
      },
      "source": [
        "# train_df  # 測試看是否有成功列出訓練資料\n",
        "# test_df  # 測試看是否有成功列出測試資料"
      ],
      "execution_count": 17,
      "outputs": []
    },
    {
      "cell_type": "code",
      "metadata": {
        "id": "t6VQmpszPeYE"
      },
      "source": [
        "data = pd.concat([train_df, test_df], ignore_index = True)\n",
        "data = data.drop([\"PassengerId\", \"Survived\"], axis = 1)\n",
        "\n",
        "# data = pd.concat([train_df, test_df], ignore_index=True)\n",
        "# data = data.drop([\"PassengerId\", \"Survived\"], axis=1)"
      ],
      "execution_count": 18,
      "outputs": []
    },
    {
      "cell_type": "code",
      "metadata": {
        "colab": {
          "base_uri": "https://localhost:8080/"
        },
        "id": "EJf6G5Y8qli9",
        "outputId": "58f4fa64-1e47-459d-ff85-423d4a5e783b"
      },
      "source": [
        "na = data.isna().sum()\n",
        "# series[帶入跟你的資料筆數一樣多True/False list]\n",
        "na[na > 0].sort_values()\n",
        "# na[na > 0].sort_values(ascending=False)  ## ascending=False 讓資料倒序"
      ],
      "execution_count": 19,
      "outputs": [
        {
          "output_type": "execute_result",
          "data": {
            "text/plain": [
              "Fare           1\n",
              "Embarked       2\n",
              "Age          263\n",
              "Cabin       1014\n",
              "dtype: int64"
            ]
          },
          "metadata": {
            "tags": []
          },
          "execution_count": 19
        }
      ]
    },
    {
      "cell_type": "code",
      "metadata": {
        "id": "HuzkB67BVNBb",
        "colab": {
          "base_uri": "https://localhost:8080/"
        },
        "outputId": "cce0a20a-eeda-4542-cfef-a501bf3b7a50"
      },
      "source": [
        "def cabin_head(s):\n",
        "  if not pd.isna(s):\n",
        "    return s[0]\n",
        "data[\"Cabin\"] = data[\"Cabin\"].apply(cabin_head)"
      ],
      "execution_count": 21,
      "outputs": [
        {
          "output_type": "execute_result",
          "data": {
            "text/plain": [
              "0       None\n",
              "1          C\n",
              "2       None\n",
              "3          C\n",
              "4       None\n",
              "        ... \n",
              "1304    None\n",
              "1305       C\n",
              "1306    None\n",
              "1307    None\n",
              "1308    None\n",
              "Name: Cabin, Length: 1309, dtype: object"
            ]
          },
          "metadata": {
            "tags": []
          },
          "execution_count": 21
        }
      ]
    },
    {
      "cell_type": "code",
      "metadata": {
        "id": "dMJOZ8ymXKhH"
      },
      "source": [
        "dic = data[\"Ticket\"].value_counts()\n",
        "data[\"Ticket\"] = data[\"Ticket\"].apply(lambda t:dic[t])"
      ],
      "execution_count": null,
      "outputs": []
    },
    {
      "cell_type": "code",
      "metadata": {
        "colab": {
          "base_uri": "https://localhost:8080/"
        },
        "id": "a0X4T_2QY-j8",
        "outputId": "2a4ddfd3-af36-46a7-92d8-8eb9f9184e68"
      },
      "source": [
        "# 補缺失值(類別：最常出現) [!如果一堆測試資料，不要重算，直接補Ｓ]\n",
        "most = data[\"Embarked\"].value_counts().idxmax() ## .idxmax()：取得最大值的索引，.idxmin()：取得最小值的索引\n",
        "data[\"Embarked\"] = data[\"Embarked\"].fillna(most)\n",
        "na = data.isna().sum()\n",
        "na[na > 0].sort_values()"
      ],
      "execution_count": 27,
      "outputs": [
        {
          "output_type": "execute_result",
          "data": {
            "text/plain": [
              "Fare        1\n",
              "Age       263\n",
              "Cabin    1014\n",
              "dtype: int64"
            ]
          },
          "metadata": {
            "tags": []
          },
          "execution_count": 27
        }
      ]
    },
    {
      "cell_type": "code",
      "metadata": {
        "colab": {
          "base_uri": "https://localhost:8080/"
        },
        "id": "GDV_qo8OlhjZ",
        "outputId": "95f1cad4-f959-4474-baa0-97a5d37a33d0"
      },
      "source": [
        "# 補缺失值，數值：補中位數\n",
        "med = data.median().drop([\"Pclass\"])  # 因為Pclass非數字型態，所以要在中位數字中將其先去除\n",
        "data = data.fillna(med)\n",
        "na = data.isna().sum()\n",
        "na[na > 0].sort_values()"
      ],
      "execution_count": 29,
      "outputs": [
        {
          "output_type": "execute_result",
          "data": {
            "text/plain": [
              "Cabin    1014\n",
              "dtype: int64"
            ]
          },
          "metadata": {
            "tags": []
          },
          "execution_count": 29
        }
      ]
    }
  ]
}