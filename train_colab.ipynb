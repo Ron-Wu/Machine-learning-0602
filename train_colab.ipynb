{
  "nbformat": 4,
  "nbformat_minor": 0,
  "metadata": {
    "colab": {
      "name": "train-colab.ipynb",
      "provenance": [],
      "collapsed_sections": [],
      "include_colab_link": true
    },
    "kernelspec": {
      "display_name": "Python 3",
      "language": "python",
      "name": "python3"
    },
    "language_info": {
      "codemirror_mode": {
        "name": "ipython",
        "version": 3
      },
      "file_extension": ".py",
      "mimetype": "text/x-python",
      "name": "python",
      "nbconvert_exporter": "python",
      "pygments_lexer": "ipython3",
      "version": "3.7.6"
    },
    "accelerator": "GPU"
  },
  "cells": [
    {
      "cell_type": "markdown",
      "metadata": {
        "id": "view-in-github",
        "colab_type": "text"
      },
      "source": [
        "<a href=\"https://colab.research.google.com/github/Ron-Wu/Machine-learning-0602/blob/main/train_colab.ipynb\" target=\"_parent\"><img src=\"https://colab.research.google.com/assets/colab-badge.svg\" alt=\"Open In Colab\"/></a>"
      ]
    },
    {
      "cell_type": "code",
      "metadata": {
        "id": "5KuJB6zRN4ry",
        "outputId": "b564c0a3-67f6-476d-9065-f7e2cfbe7e0e",
        "colab": {
          "base_uri": "https://localhost:8080/"
        }
      },
      "source": [
        "from google.colab import drive\n",
        "drive.mount('/content/drive')"
      ],
      "execution_count": 9,
      "outputs": [
        {
          "output_type": "stream",
          "text": [
            "Drive already mounted at /content/drive; to attempt to forcibly remount, call drive.mount(\"/content/drive\", force_remount=True).\n"
          ],
          "name": "stdout"
        }
      ]
    },
    {
      "cell_type": "code",
      "metadata": {
        "colab": {
          "base_uri": "https://localhost:8080/"
        },
        "id": "A5ouR8npOQod",
        "outputId": "c99f1e79-1572-4797-e77b-d23bd0104ee6"
      },
      "source": [
        "# # download Defect dataset\n",
        "# !gdown --id '1o_10Y9HP0mxNV0-mZPy3zMCuWVLihrnb' -O dataset.zip\n",
        "\n",
        "# https://drive.google.com/u/0/uc?id=16pfZNfJG9COftOUaljV4HO6Pz32yOGEG&export=download\n",
        "!gdown --id '16pfZNfJG9COftOUaljV4HO6Pz32yOGEG' -O datasets.zip\n",
        "\n",
        "# download Blood Cell dataset\n",
        "# !gdown --id '1ETvE7jLhuJrSD21Es4TJKFrs1AXPDYsY' -O dataset.zip"
      ],
      "execution_count": 10,
      "outputs": [
        {
          "output_type": "stream",
          "text": [
            "Downloading...\n",
            "From: https://drive.google.com/uc?id=16pfZNfJG9COftOUaljV4HO6Pz32yOGEG\n",
            "To: /content/datasets.zip\n",
            "13.6MB [00:00, 82.5MB/s]\n"
          ],
          "name": "stdout"
        }
      ]
    },
    {
      "cell_type": "code",
      "metadata": {
        "id": "dsNHaa7KOgdN",
        "outputId": "7b13d0f8-6be2-4d01-c96b-1f7ed53ea07f",
        "colab": {
          "base_uri": "https://localhost:8080/"
        }
      },
      "source": [
        "# unzip dataset\n",
        "!unzip -q datasets.zip"
      ],
      "execution_count": 11,
      "outputs": [
        {
          "output_type": "stream",
          "text": [
            "replace __MACOSX/._datasets? [y]es, [n]o, [A]ll, [N]one, [r]ename: A\n"
          ],
          "name": "stdout"
        }
      ]
    },
    {
      "cell_type": "code",
      "metadata": {
        "id": "DBhYFJAwelCU"
      },
      "source": [
        "import sys\n",
        "FOLDER_PATH = '/content/drive/MyDrive/勞動部1/03-CNN-Applications/Detection/yolo-v4-tf.keras' # Your YOLO folder path in google drive\n",
        "sys.path.append(FOLDER_PATH)"
      ],
      "execution_count": 4,
      "outputs": []
    },
    {
      "cell_type": "code",
      "metadata": {
        "id": "M3rE9SLRelCb",
        "outputId": "38500249-224e-474c-cb77-4e64719185c9",
        "colab": {
          "base_uri": "https://localhost:8080/",
          "height": 385
        }
      },
      "source": [
        "from utils import DataGenerator, read_annotation_lines\n",
        "from models import Yolov4\n",
        "from config import yolo_config\n",
        "import os\n",
        "from tensorflow.keras.callbacks import EarlyStopping, ModelCheckpoint"
      ],
      "execution_count": 3,
      "outputs": [
        {
          "output_type": "error",
          "ename": "ModuleNotFoundError",
          "evalue": "ignored",
          "traceback": [
            "\u001b[0;31m---------------------------------------------------------------------------\u001b[0m",
            "\u001b[0;31mModuleNotFoundError\u001b[0m                       Traceback (most recent call last)",
            "\u001b[0;32m<ipython-input-3-cba0fb7a3407>\u001b[0m in \u001b[0;36m<module>\u001b[0;34m()\u001b[0m\n\u001b[0;32m----> 1\u001b[0;31m \u001b[0;32mfrom\u001b[0m \u001b[0mutils\u001b[0m \u001b[0;32mimport\u001b[0m \u001b[0mDataGenerator\u001b[0m\u001b[0;34m,\u001b[0m \u001b[0mread_annotation_lines\u001b[0m\u001b[0;34m\u001b[0m\u001b[0;34m\u001b[0m\u001b[0m\n\u001b[0m\u001b[1;32m      2\u001b[0m \u001b[0;32mfrom\u001b[0m \u001b[0mmodels\u001b[0m \u001b[0;32mimport\u001b[0m \u001b[0mYolov4\u001b[0m\u001b[0;34m\u001b[0m\u001b[0;34m\u001b[0m\u001b[0m\n\u001b[1;32m      3\u001b[0m \u001b[0;32mfrom\u001b[0m \u001b[0mconfig\u001b[0m \u001b[0;32mimport\u001b[0m \u001b[0myolo_config\u001b[0m\u001b[0;34m\u001b[0m\u001b[0;34m\u001b[0m\u001b[0m\n\u001b[1;32m      4\u001b[0m \u001b[0;32mimport\u001b[0m \u001b[0mos\u001b[0m\u001b[0;34m\u001b[0m\u001b[0;34m\u001b[0m\u001b[0m\n\u001b[1;32m      5\u001b[0m \u001b[0;32mfrom\u001b[0m \u001b[0mtensorflow\u001b[0m\u001b[0;34m.\u001b[0m\u001b[0mkeras\u001b[0m\u001b[0;34m.\u001b[0m\u001b[0mcallbacks\u001b[0m \u001b[0;32mimport\u001b[0m \u001b[0mEarlyStopping\u001b[0m\u001b[0;34m,\u001b[0m \u001b[0mModelCheckpoint\u001b[0m\u001b[0;34m\u001b[0m\u001b[0;34m\u001b[0m\u001b[0m\n",
            "\u001b[0;31mModuleNotFoundError\u001b[0m: No module named 'utils'",
            "",
            "\u001b[0;31m---------------------------------------------------------------------------\u001b[0;32m\nNOTE: If your import is failing due to a missing package, you can\nmanually install dependencies using either !pip or !apt.\n\nTo view examples of installing some common dependencies, click the\n\"Open Examples\" button below.\n\u001b[0;31m---------------------------------------------------------------------------\u001b[0m\n"
          ]
        }
      ]
    },
    {
      "cell_type": "code",
      "metadata": {
        "id": "BxH4446ielCc",
        "colab": {
          "base_uri": "https://localhost:8080/"
        },
        "outputId": "be9e9e46-d420-4276-a3b4-28ed3b5e56e4"
      },
      "source": [
        "train_lines, val_lines = read_annotation_lines('./datasets/train_txt/anno.txt', test_size=0.1)\n",
        "IMG_FOLDER_PATH = './datasets/train_img'\n",
        "class_name_path = os.path.join(FOLDER_PATH, 'class_names/classes.txt') # bccd_classes or aoi_classes\n",
        "data_gen_train = DataGenerator(train_lines, class_name_path, IMG_FOLDER_PATH)\n",
        "data_gen_val = DataGenerator(val_lines, class_name_path, IMG_FOLDER_PATH)\n",
        "# print(data_gen_val)\n",
        "callbacks = [\n",
        "    EarlyStopping(patience=5, restore_best_weights=True),\n",
        "    ModelCheckpoint(\"0708.h5\", save_best_only=True)\n",
        "]\n",
        "model = Yolov4(weight_path=None, \n",
        "               class_name_path=class_name_path)\n",
        "\n",
        "model.fit(data_gen_train, \n",
        "          initial_epoch=0,\n",
        "          epochs=100,\n",
        "          val_data_gen=data_gen_val,\n",
        "          callbacks=callbacks)\n"
      ],
      "execution_count": null,
      "outputs": [
        {
          "output_type": "stream",
          "text": [
            "nms iou: 0.413 score: 0.3\n"
          ],
          "name": "stdout"
        },
        {
          "output_type": "stream",
          "text": [
            "/usr/local/lib/python3.7/dist-packages/tensorflow/python/keras/optimizer_v2/optimizer_v2.py:375: UserWarning: The `lr` argument is deprecated, use `learning_rate` instead.\n",
            "  \"The `lr` argument is deprecated, use `learning_rate` instead.\")\n"
          ],
          "name": "stderr"
        },
        {
          "output_type": "stream",
          "text": [
            "Epoch 1/100\n"
          ],
          "name": "stdout"
        }
      ]
    },
    {
      "cell_type": "markdown",
      "metadata": {
        "id": "UfhS83MZP4NG"
      },
      "source": [
        "# Save model"
      ]
    },
    {
      "cell_type": "code",
      "metadata": {
        "id": "qPNhPHv4elCd"
      },
      "source": [
        "model.yolo_model.save('/content/drive/MyDrive/food.h5')"
      ],
      "execution_count": null,
      "outputs": []
    },
    {
      "cell_type": "code",
      "metadata": {
        "id": "hYS0eFbYelCd"
      },
      "source": [
        "model.yolo_model.save_weights('/content/drive/MyDrive/food_weights.h5')"
      ],
      "execution_count": null,
      "outputs": []
    },
    {
      "cell_type": "code",
      "metadata": {
        "id": "euyXbaS2qT6U"
      },
      "source": [
        ""
      ],
      "execution_count": null,
      "outputs": []
    }
  ]
}