{
  "nbformat": 4,
  "nbformat_minor": 0,
  "metadata": {
    "colab": {
      "name": "train-colab.ipynb",
      "provenance": [],
      "collapsed_sections": [],
      "include_colab_link": true
    },
    "kernelspec": {
      "display_name": "Python 3",
      "language": "python",
      "name": "python3"
    },
    "language_info": {
      "codemirror_mode": {
        "name": "ipython",
        "version": 3
      },
      "file_extension": ".py",
      "mimetype": "text/x-python",
      "name": "python",
      "nbconvert_exporter": "python",
      "pygments_lexer": "ipython3",
      "version": "3.7.6"
    },
    "accelerator": "GPU"
  },
  "cells": [
    {
      "cell_type": "markdown",
      "metadata": {
        "id": "view-in-github",
        "colab_type": "text"
      },
      "source": [
        "<a href=\"https://colab.research.google.com/github/Ron-Wu/Machine-learning-0602/blob/main/train_colab.ipynb\" target=\"_parent\"><img src=\"https://colab.research.google.com/assets/colab-badge.svg\" alt=\"Open In Colab\"/></a>"
      ]
    },
    {
      "cell_type": "code",
      "metadata": {
        "colab": {
          "base_uri": "https://localhost:8080/"
        },
        "id": "5xVIoDSOeroR",
        "outputId": "f418ea8d-738a-4139-ba4f-6b3f3f4af848"
      },
      "source": [
        "\n",
        "from google.colab import drive\n",
        "drive.mount('/content/drive')"
      ],
      "execution_count": 1,
      "outputs": [
        {
          "output_type": "stream",
          "text": [
            "Mounted at /content/drive\n"
          ],
          "name": "stdout"
        }
      ]
    },
    {
      "cell_type": "code",
      "metadata": {
        "colab": {
          "base_uri": "https://localhost:8080/"
        },
        "id": "A5ouR8npOQod",
        "outputId": "273f8d17-3317-427d-c8b0-f5f3bd2f904a"
      },
      "source": [
        "# # download Defect dataset\n",
        "# !gdown --id '1o_10Y9HP0mxNV0-mZPy3zMCuWVLihrnb' -O dataset.zip\n",
        "\n",
        "# https://drive.google.com/u/0/uc?id=16pfZNfJG9COftOUaljV4HO6Pz32yOGEG&export=download\n",
        "!gdown --id '16pfZNfJG9COftOUaljV4HO6Pz32yOGEG' -O datasets.zip\n",
        "\n",
        "# download Blood Cell dataset\n",
        "# !gdown --id '1ETvE7jLhuJrSD21Es4TJKFrs1AXPDYsY' -O dataset.zip"
      ],
      "execution_count": 2,
      "outputs": [
        {
          "output_type": "stream",
          "text": [
            "Downloading...\n",
            "From: https://drive.google.com/uc?id=16pfZNfJG9COftOUaljV4HO6Pz32yOGEG\n",
            "To: /content/datasets.zip\n",
            "13.6MB [00:00, 63.4MB/s]\n"
          ],
          "name": "stdout"
        }
      ]
    },
    {
      "cell_type": "code",
      "metadata": {
        "id": "dsNHaa7KOgdN"
      },
      "source": [
        "# unzip dataset\n",
        "!unzip -q datasets.zip"
      ],
      "execution_count": 3,
      "outputs": []
    },
    {
      "cell_type": "code",
      "metadata": {
        "id": "DBhYFJAwelCU"
      },
      "source": [
        "import sys\n",
        "FOLDER_PATH = '/content/drive/MyDrive/勞動部1/03-CNN-Applications/Detection/yolo-v4-tf.keras' # Your YOLO folder path in google drive\n",
        "sys.path.append(FOLDER_PATH)"
      ],
      "execution_count": 4,
      "outputs": []
    },
    {
      "cell_type": "code",
      "metadata": {
        "id": "M3rE9SLRelCb"
      },
      "source": [
        "from utils import DataGenerator, read_annotation_lines\n",
        "from models import Yolov4\n",
        "from config import yolo_config\n",
        "import os"
      ],
      "execution_count": 5,
      "outputs": []
    },
    {
      "cell_type": "code",
      "metadata": {
        "id": "BxH4446ielCc",
        "colab": {
          "base_uri": "https://localhost:8080/"
        },
        "outputId": "28675260-9c13-48d8-9dd9-6f1a44ae51fa"
      },
      "source": [
        "train_lines, val_lines = read_annotation_lines('./datasets/train_txt/anno.txt', test_size=0.1)\n",
        "IMG_FOLDER_PATH = './datasets/train_img'\n",
        "class_name_path = os.path.join(FOLDER_PATH, 'class_names/classes.txt') # bccd_classes or aoi_classes\n",
        "data_gen_train = DataGenerator(train_lines, class_name_path, IMG_FOLDER_PATH)\n",
        "data_gen_val = DataGenerator(val_lines, class_name_path, IMG_FOLDER_PATH)\n",
        "# print(data_gen_val)\n",
        "model = Yolov4(weight_path=None, \n",
        "               class_name_path=class_name_path)\n",
        "\n",
        "model.fit(data_gen_train, \n",
        "          initial_epoch=0,\n",
        "          epochs=100,val_data_gen=data_gen_val)\n",
        "\n",
        "# model = Yolov4(weight_path=None, \n",
        "#                class_name_path=class_name_path)\n",
        "\n",
        "# model.fit(data_gen_train, \n",
        "#           initial_epoch=0,\n",
        "#           epochs=100, \n",
        "#           val_data_gen=data_gen_val\n",
        "#           )"
      ],
      "execution_count": null,
      "outputs": [
        {
          "output_type": "stream",
          "text": [
            "nms iou: 0.413 score: 0.3\n"
          ],
          "name": "stdout"
        },
        {
          "output_type": "stream",
          "text": [
            "/usr/local/lib/python3.7/dist-packages/tensorflow/python/keras/optimizer_v2/optimizer_v2.py:375: UserWarning: The `lr` argument is deprecated, use `learning_rate` instead.\n",
            "  \"The `lr` argument is deprecated, use `learning_rate` instead.\")\n"
          ],
          "name": "stderr"
        },
        {
          "output_type": "stream",
          "text": [
            "Epoch 1/100\n",
            "156/156 [==============================] - 162s 723ms/step - loss: 5612.0459 - val_loss: 1264.4320\n",
            "Epoch 2/100\n",
            "156/156 [==============================] - 105s 673ms/step - loss: 635.3574 - val_loss: 691.6517\n",
            "Epoch 3/100\n",
            "156/156 [==============================] - 105s 672ms/step - loss: 592.8004 - val_loss: 692.1779\n",
            "Epoch 4/100\n",
            "156/156 [==============================] - 105s 672ms/step - loss: 584.5130 - val_loss: 655.0142\n",
            "Epoch 5/100\n",
            "156/156 [==============================] - 105s 672ms/step - loss: 578.1119 - val_loss: 645.4233\n",
            "Epoch 6/100\n",
            "156/156 [==============================] - 105s 673ms/step - loss: 574.4933 - val_loss: 686.5220\n",
            "Epoch 7/100\n",
            "156/156 [==============================] - 105s 672ms/step - loss: 566.9955 - val_loss: 909.0078\n",
            "Epoch 8/100\n",
            "156/156 [==============================] - 105s 672ms/step - loss: 559.9047 - val_loss: 664.0940\n",
            "Epoch 9/100\n",
            "156/156 [==============================] - 105s 672ms/step - loss: 542.4217 - val_loss: 600.9715\n",
            "Epoch 10/100\n",
            "156/156 [==============================] - 105s 673ms/step - loss: 519.8345 - val_loss: 624.1480\n",
            "Epoch 11/100\n",
            "156/156 [==============================] - 105s 673ms/step - loss: 514.1385 - val_loss: 669.0541\n",
            "Epoch 12/100\n",
            "156/156 [==============================] - 105s 672ms/step - loss: 491.1769 - val_loss: 576.9457\n",
            "Epoch 13/100\n",
            "156/156 [==============================] - 105s 674ms/step - loss: 485.4910 - val_loss: 639.9776\n",
            "Epoch 14/100\n",
            "156/156 [==============================] - 105s 673ms/step - loss: 470.1740 - val_loss: nan\n",
            "Epoch 15/100\n",
            "156/156 [==============================] - 105s 672ms/step - loss: 458.7302 - val_loss: 513.5024\n",
            "Epoch 16/100\n",
            "156/156 [==============================] - 105s 673ms/step - loss: 450.4238 - val_loss: 574.4702\n",
            "Epoch 17/100\n",
            "156/156 [==============================] - 105s 673ms/step - loss: 433.3689 - val_loss: 551.8281\n",
            "Epoch 18/100\n",
            "156/156 [==============================] - 105s 672ms/step - loss: 413.9609 - val_loss: 466.4052\n",
            "Epoch 19/100\n",
            "156/156 [==============================] - 105s 673ms/step - loss: 418.2644 - val_loss: 530.9258\n",
            "Epoch 20/100\n",
            "156/156 [==============================] - 105s 672ms/step - loss: 394.7281 - val_loss: 503.2935\n",
            "Epoch 21/100\n",
            "156/156 [==============================] - 105s 672ms/step - loss: 388.3086 - val_loss: 459.4559\n",
            "Epoch 22/100\n",
            "156/156 [==============================] - 105s 673ms/step - loss: 373.0042 - val_loss: 437.6089\n",
            "Epoch 23/100\n",
            "156/156 [==============================] - 105s 673ms/step - loss: 366.3720 - val_loss: 439.5568\n",
            "Epoch 24/100\n",
            "156/156 [==============================] - 105s 672ms/step - loss: 354.5493 - val_loss: 469.5101\n",
            "Epoch 25/100\n",
            "156/156 [==============================] - 105s 672ms/step - loss: 346.2187 - val_loss: 468.8837\n",
            "Epoch 26/100\n",
            "156/156 [==============================] - 105s 673ms/step - loss: 337.6810 - val_loss: 419.9454\n",
            "Epoch 27/100\n",
            "156/156 [==============================] - 105s 672ms/step - loss: 326.2916 - val_loss: 528.8519\n",
            "Epoch 28/100\n",
            "156/156 [==============================] - 105s 673ms/step - loss: 329.8477 - val_loss: 449.0652\n",
            "Epoch 29/100\n",
            "156/156 [==============================] - 105s 673ms/step - loss: 317.5614 - val_loss: 418.8979\n",
            "Epoch 30/100\n",
            "156/156 [==============================] - 105s 673ms/step - loss: 303.2402 - val_loss: 422.1101\n",
            "Epoch 31/100\n",
            "156/156 [==============================] - 105s 673ms/step - loss: 299.8255 - val_loss: 416.7671\n",
            "Epoch 32/100\n",
            "156/156 [==============================] - 105s 674ms/step - loss: 293.5519 - val_loss: 425.6430\n",
            "Epoch 33/100\n",
            "156/156 [==============================] - 105s 674ms/step - loss: 298.3887 - val_loss: 481.0859\n",
            "Epoch 34/100\n",
            "156/156 [==============================] - 105s 673ms/step - loss: 289.1083 - val_loss: 443.1281\n",
            "Epoch 35/100\n",
            "156/156 [==============================] - 105s 672ms/step - loss: 269.2007 - val_loss: 463.8802\n",
            "Epoch 36/100\n",
            "156/156 [==============================] - 105s 674ms/step - loss: 261.5384 - val_loss: 396.6518\n",
            "Epoch 37/100\n",
            "156/156 [==============================] - 105s 673ms/step - loss: 272.2630 - val_loss: 557.8406\n",
            "Epoch 38/100\n",
            "156/156 [==============================] - 105s 673ms/step - loss: 243.5388 - val_loss: nan\n",
            "Epoch 39/100\n",
            "156/156 [==============================] - 105s 673ms/step - loss: 229.5337 - val_loss: 464.3232\n",
            "Epoch 40/100\n",
            "156/156 [==============================] - 105s 672ms/step - loss: 221.7119 - val_loss: 489.3305\n",
            "Epoch 41/100\n",
            "156/156 [==============================] - 105s 672ms/step - loss: 211.9164 - val_loss: 451.8127\n",
            "Epoch 42/100\n",
            "156/156 [==============================] - 105s 673ms/step - loss: 194.6861 - val_loss: 494.2177\n",
            "Epoch 43/100\n",
            "156/156 [==============================] - 105s 673ms/step - loss: 183.5690 - val_loss: 517.9164\n",
            "Epoch 44/100\n",
            "156/156 [==============================] - 105s 673ms/step - loss: 174.4962 - val_loss: 534.5161\n",
            "Epoch 45/100\n",
            "156/156 [==============================] - 105s 673ms/step - loss: 154.0647 - val_loss: 522.5811\n",
            "Epoch 46/100\n",
            "156/156 [==============================] - 105s 674ms/step - loss: 145.8651 - val_loss: 610.6688\n",
            "Epoch 47/100\n",
            "156/156 [==============================] - 105s 673ms/step - loss: 135.4282 - val_loss: 607.8802\n",
            "Epoch 48/100\n",
            "  3/156 [..............................] - ETA: 1:38 - loss: 96.8615"
          ],
          "name": "stdout"
        }
      ]
    },
    {
      "cell_type": "markdown",
      "metadata": {
        "id": "UfhS83MZP4NG"
      },
      "source": [
        "# Save model"
      ]
    },
    {
      "cell_type": "code",
      "metadata": {
        "id": "qPNhPHv4elCd"
      },
      "source": [
        "model.yolo_model.save('/content/drive/MyDrive/food.h5')"
      ],
      "execution_count": null,
      "outputs": []
    },
    {
      "cell_type": "code",
      "metadata": {
        "id": "hYS0eFbYelCd"
      },
      "source": [
        "model.yolo_model.save_weights('/content/drive/MyDrive/food_weights.h5')"
      ],
      "execution_count": null,
      "outputs": []
    },
    {
      "cell_type": "code",
      "metadata": {
        "id": "euyXbaS2qT6U"
      },
      "source": [
        ""
      ],
      "execution_count": null,
      "outputs": []
    }
  ]
}