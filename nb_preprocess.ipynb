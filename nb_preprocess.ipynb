{
  "nbformat": 4,
  "nbformat_minor": 0,
  "metadata": {
    "colab": {
      "name": "nb_preprocess.ipynb",
      "provenance": [],
      "collapsed_sections": [],
      "toc_visible": true,
      "authorship_tag": "ABX9TyOAUHahHCqXnYLtS3tm9OKc",
      "include_colab_link": true
    },
    "kernelspec": {
      "name": "python3",
      "display_name": "Python 3"
    },
    "language_info": {
      "name": "python"
    }
  },
  "cells": [
    {
      "cell_type": "markdown",
      "metadata": {
        "id": "view-in-github",
        "colab_type": "text"
      },
      "source": [
        "<a href=\"https://colab.research.google.com/github/Ron-Wu/Machine-learning-0602/blob/main/nb_preprocess.ipynb\" target=\"_parent\"><img src=\"https://colab.research.google.com/assets/colab-badge.svg\" alt=\"Open In Colab\"/></a>"
      ]
    },
    {
      "cell_type": "code",
      "metadata": {
        "colab": {
          "base_uri": "https://localhost:8080/"
        },
        "id": "1xVcaswOonj0",
        "outputId": "f565bf46-836a-423b-9cf5-4b47dca7ccb7"
      },
      "source": [
        "!pip install opencc-python-reimplemented"
      ],
      "execution_count": 1,
      "outputs": [
        {
          "output_type": "stream",
          "text": [
            "Collecting opencc-python-reimplemented\n",
            "\u001b[?25l  Downloading https://files.pythonhosted.org/packages/04/aa/02c5ffc87e2bf1da1f476d35aa4de69cad2cfc3140e37114755c454d1231/opencc-python-reimplemented-0.1.6.tar.gz (484kB)\n",
            "\r\u001b[K     |▊                               | 10kB 15.3MB/s eta 0:00:01\r\u001b[K     |█▍                              | 20kB 21.4MB/s eta 0:00:01\r\u001b[K     |██                              | 30kB 26.7MB/s eta 0:00:01\r\u001b[K     |██▊                             | 40kB 24.4MB/s eta 0:00:01\r\u001b[K     |███▍                            | 51kB 15.3MB/s eta 0:00:01\r\u001b[K     |████                            | 61kB 12.4MB/s eta 0:00:01\r\u001b[K     |████▊                           | 71kB 13.6MB/s eta 0:00:01\r\u001b[K     |█████▍                          | 81kB 13.6MB/s eta 0:00:01\r\u001b[K     |██████                          | 92kB 14.7MB/s eta 0:00:01\r\u001b[K     |██████▊                         | 102kB 13.9MB/s eta 0:00:01\r\u001b[K     |███████▍                        | 112kB 13.9MB/s eta 0:00:01\r\u001b[K     |████████▏                       | 122kB 13.9MB/s eta 0:00:01\r\u001b[K     |████████▉                       | 133kB 13.9MB/s eta 0:00:01\r\u001b[K     |█████████▌                      | 143kB 13.9MB/s eta 0:00:01\r\u001b[K     |██████████▏                     | 153kB 13.9MB/s eta 0:00:01\r\u001b[K     |██████████▉                     | 163kB 13.9MB/s eta 0:00:01\r\u001b[K     |███████████▌                    | 174kB 13.9MB/s eta 0:00:01\r\u001b[K     |████████████▏                   | 184kB 13.9MB/s eta 0:00:01\r\u001b[K     |████████████▉                   | 194kB 13.9MB/s eta 0:00:01\r\u001b[K     |█████████████▌                  | 204kB 13.9MB/s eta 0:00:01\r\u001b[K     |██████████████▏                 | 215kB 13.9MB/s eta 0:00:01\r\u001b[K     |██████████████▉                 | 225kB 13.9MB/s eta 0:00:01\r\u001b[K     |███████████████▌                | 235kB 13.9MB/s eta 0:00:01\r\u001b[K     |████████████████▎               | 245kB 13.9MB/s eta 0:00:01\r\u001b[K     |█████████████████               | 256kB 13.9MB/s eta 0:00:01\r\u001b[K     |█████████████████▋              | 266kB 13.9MB/s eta 0:00:01\r\u001b[K     |██████████████████▎             | 276kB 13.9MB/s eta 0:00:01\r\u001b[K     |███████████████████             | 286kB 13.9MB/s eta 0:00:01\r\u001b[K     |███████████████████▋            | 296kB 13.9MB/s eta 0:00:01\r\u001b[K     |████████████████████▎           | 307kB 13.9MB/s eta 0:00:01\r\u001b[K     |█████████████████████           | 317kB 13.9MB/s eta 0:00:01\r\u001b[K     |█████████████████████▋          | 327kB 13.9MB/s eta 0:00:01\r\u001b[K     |██████████████████████▎         | 337kB 13.9MB/s eta 0:00:01\r\u001b[K     |███████████████████████         | 348kB 13.9MB/s eta 0:00:01\r\u001b[K     |███████████████████████▊        | 358kB 13.9MB/s eta 0:00:01\r\u001b[K     |████████████████████████▍       | 368kB 13.9MB/s eta 0:00:01\r\u001b[K     |█████████████████████████       | 378kB 13.9MB/s eta 0:00:01\r\u001b[K     |█████████████████████████▊      | 389kB 13.9MB/s eta 0:00:01\r\u001b[K     |██████████████████████████▍     | 399kB 13.9MB/s eta 0:00:01\r\u001b[K     |███████████████████████████     | 409kB 13.9MB/s eta 0:00:01\r\u001b[K     |███████████████████████████▊    | 419kB 13.9MB/s eta 0:00:01\r\u001b[K     |████████████████████████████▍   | 430kB 13.9MB/s eta 0:00:01\r\u001b[K     |█████████████████████████████   | 440kB 13.9MB/s eta 0:00:01\r\u001b[K     |█████████████████████████████▊  | 450kB 13.9MB/s eta 0:00:01\r\u001b[K     |██████████████████████████████▍ | 460kB 13.9MB/s eta 0:00:01\r\u001b[K     |███████████████████████████████ | 471kB 13.9MB/s eta 0:00:01\r\u001b[K     |███████████████████████████████▉| 481kB 13.9MB/s eta 0:00:01\r\u001b[K     |████████████████████████████████| 491kB 13.9MB/s \n",
            "\u001b[?25hBuilding wheels for collected packages: opencc-python-reimplemented\n",
            "  Building wheel for opencc-python-reimplemented (setup.py) ... \u001b[?25l\u001b[?25hdone\n",
            "  Created wheel for opencc-python-reimplemented: filename=opencc_python_reimplemented-0.1.6-py2.py3-none-any.whl size=486151 sha256=a6f8329d563f2375e9d49a07835ba3b4adffa19da4826ba9e60bd731b251a136\n",
            "  Stored in directory: /root/.cache/pip/wheels/54/8a/0f/405db0ba3f02d9af8211422d3ae94c47b3296256f168ac1e68\n",
            "Successfully built opencc-python-reimplemented\n",
            "Installing collected packages: opencc-python-reimplemented\n",
            "Successfully installed opencc-python-reimplemented-0.1.6\n"
          ],
          "name": "stdout"
        }
      ]
    },
    {
      "cell_type": "code",
      "metadata": {
        "id": "BeON40M2ovNS"
      },
      "source": [
        "to_convert = \"\"\"训练词向量等一些任务的时候，往往需要一些较大规模的中文语料，而维基百科语料是一个很好的选择。维基百科每段时间都会备份数据，我们可以选择不同时间段的语料来下载使用。​\n",
        "\n",
        "1.下载维基百科语料\n",
        "下面就是维基百科的语料的下载地址：\"\"\""
      ],
      "execution_count": 2,
      "outputs": []
    },
    {
      "cell_type": "code",
      "metadata": {
        "colab": {
          "base_uri": "https://localhost:8080/",
          "height": 52
        },
        "id": "vogtpWPHo0fL",
        "outputId": "517f75f1-febc-4752-812c-49cc39c1112d"
      },
      "source": [
        "from opencc import OpenCC\n",
        "cc = OpenCC('s2tw')\n",
        "converted = cc.convert(to_convert)\n",
        "converted"
      ],
      "execution_count": 3,
      "outputs": [
        {
          "output_type": "execute_result",
          "data": {
            "application/vnd.google.colaboratory.intrinsic+json": {
              "type": "string"
            },
            "text/plain": [
              "'訓練詞向量等一些任務的時候，往往需要一些較大規模的中文語料，而維基百科語料是一個很好的選擇。維基百科每段時間都會備份數據，我們可以選擇不同時間段的語料來下載使用。\\u200b\\n\\n1.下載維基百科語料\\n下面就是維基百科的語料的下載地址：'"
            ]
          },
          "metadata": {
            "tags": []
          },
          "execution_count": 3
        }
      ]
    },
    {
      "cell_type": "code",
      "metadata": {
        "colab": {
          "base_uri": "https://localhost:8080/",
          "height": 120
        },
        "id": "wM2tQ1Evo2ei",
        "outputId": "7273a538-3cbc-449d-d6fb-b2ba9ee26aae"
      },
      "source": [
        "with open(\"./news.txt\", \"r\", encoding=\"utf-8\") as f:\n",
        "    content = f.read()\n",
        "content"
      ],
      "execution_count": 4,
      "outputs": [
        {
          "output_type": "execute_result",
          "data": {
            "application/vnd.google.colaboratory.intrinsic+json": {
              "type": "string"
            },
            "text/plain": [
              "'  \\n美國俄勒岡州一名女大生日前將iPhone送修，但手機內的私密照片和影片被兩名和碩員工洩漏，對此，美國蘋果公司已支付數百萬美元與該名女大生和解。\\n\\n英國每日電訊報報導，該名不具名的21歲女大生2016年將iPhone交給位在美國加州沙加緬度（Sacramento）據點的維修承包商和碩進行維修，兩名技師隨後將多張該女子的私密照和影片上傳到她的臉書帳號，藉此讓這些照片和影片看似由女學生自行上傳，最後是被朋友告知才知曉。\\n\\n女學生在事件發生後揚言以侵害隱私和帶來情緒困擾為由提起訴訟，最終蘋果支付「數百萬美元」與該女和解，並將兩名涉案員工開除。蘋果發言人說，「我們相當重視客戶資料的隱私和安全，也制定許多能確保資料在維修過程中能受到保護的相關協議」。\\n\\n當時雖已簽訂保密條款禁止進一步討論此事及和解金額，但因保險業者拒付和碩補償蘋果的和解金，保險公司與和碩又起糾紛，雙方的訴訟中才將此事曝光。'"
            ]
          },
          "metadata": {
            "tags": []
          },
          "execution_count": 4
        }
      ]
    },
    {
      "cell_type": "code",
      "metadata": {
        "colab": {
          "base_uri": "https://localhost:8080/"
        },
        "id": "IdIJJaI7o4uC",
        "outputId": "81d646bc-3781-4584-f06a-b0b3173b8d41"
      },
      "source": [
        "import jieba.analyse\n",
        "# topK:None (全部列出, 高到低)\n",
        "print(jieba.analyse.extract_tags(content))\n",
        "print(jieba.analyse.extract_tags(content, topK=10, allowPOS=[\"ns\", \"nr\"]))"
      ],
      "execution_count": 5,
      "outputs": [
        {
          "output_type": "stream",
          "text": [
            "Building prefix dict from the default dictionary ...\n",
            "Dumping model to file cache /tmp/jieba.cache\n",
            "Loading model cost 0.993 seconds.\n",
            "Prefix dict has been built successfully.\n"
          ],
          "name": "stderr"
        },
        {
          "output_type": "stream",
          "text": [
            "['蘋果', '美國', '兩名', '和解', '大生', 'iPhone', '數百萬', '維修', '女學生', '隱私', '訴訟', '影片', '私密', '照片', '沙加', '此事', '送修', '支付', '拒付', '俄勒岡州']\n",
            "['美國', '和碩', '沙加', '俄勒岡州', '英國']\n"
          ],
          "name": "stdout"
        }
      ]
    },
    {
      "cell_type": "code",
      "metadata": {
        "colab": {
          "base_uri": "https://localhost:8080/"
        },
        "id": "TP33qxRUpORm",
        "outputId": "1f180230-5103-4d50-ffb7-98cb0b40d7f8"
      },
      "source": [
        "import jieba\n",
        "from urllib.request import urlretrieve\n",
        "url = \"https://github.com/fxsjy/jieba/blob/master/extra_dict/dict.txt.big\"\n",
        "urlretrieve(url, \"dict.txt.big\")\n",
        "c = \" \".join(jieba.cut(content))\n",
        "print(c)\n",
        "# print(jieba.analyse.extract_tags(c, topK=10, allowPOS=[\"ns\", \"nr\"]))\n",
        "# print(jieba.analyse.extract_tags(c, topK=10))"
      ],
      "execution_count": 16,
      "outputs": [
        {
          "output_type": "stream",
          "text": [
            "    \n",
            " 美國 俄勒岡州 一名 女大生 日前 將 iPhone 送修 ， 但手 機內 的 私密 照片 和 影片 被 兩名 和碩 員 工洩漏 ， 對此 ， 美國 蘋果 公司 已 支付 數百萬 美元 與 該 名 女大生 和解 。 \n",
            " \n",
            " 英國 每日 電訊報 報導 ， 該名 不 具名 的 21 歲 女大生 2016 年將 iPhone 交給位 在 美國 加州 沙加緬度 （ Sacramento ） 據點 的 維修 承包商 和碩 進行 維修 ， 兩名 技師 隨後將 多 張該 女子 的 私密 照 和 影片 上 傳到 她 的 臉書 帳號 ， 藉此 讓 這些 照片 和 影片 看似 由 女學生 自行 上傳 ， 最後是 被 朋友 告知 才 知曉 。 \n",
            " \n",
            " 女學生 在 事件 發生後揚言以 侵害 隱私 和 帶來 情緒 困擾 為 由 提起 訴訟 ， 最終 蘋果 支付 「 數百萬 美元 」 與 該 女 和解 ， 並將 兩名 涉案 員工 開除 。 蘋果 發言人 說 ， 「 我們 相當 重視 客戶 資料 的 隱私 和 安全 ， 也 制定 許多能 確保資料 在 維修 過程 中能 受到 保護 的 相關 協議 」 。 \n",
            " \n",
            " 當時 雖 已 簽訂 保密 條款 禁止 進 一步 討論 此事 及 和解 金額 ， 但 因 保險業者 拒付 和碩 補償 蘋果 的 和解 金 ， 保險 公司 與 和碩 又 起 糾紛 ， 雙方 的 訴訟 中才將 此事 曝光 。\n"
          ],
          "name": "stdout"
        }
      ]
    },
    {
      "cell_type": "code",
      "metadata": {
        "colab": {
          "base_uri": "https://localhost:8080/"
        },
        "id": "KjlJpFa6rTgi",
        "outputId": "fef026fc-d1fe-443d-b84a-5b5778b8f67b"
      },
      "source": [
        "jieba.load_userdict(\"mydict.txt\")\n",
        "c = \" \".join(jieba.cut(content))\n",
        "# print(c)\n",
        "# print(jieba.analyse.extract_tags(c, topK=10, allowPOS=[\"ns\", \"nr\"]))\n",
        "print(jieba.analyse.extract_tags(c, topK=10))"
      ],
      "execution_count": 14,
      "outputs": [
        {
          "output_type": "stream",
          "text": [
            "['和碩', '蘋果', '美國', '女大生', '兩名', '維修', '和解', 'iPhone', '數百萬', '女學生']\n"
          ],
          "name": "stdout"
        }
      ]
    }
  ]
}