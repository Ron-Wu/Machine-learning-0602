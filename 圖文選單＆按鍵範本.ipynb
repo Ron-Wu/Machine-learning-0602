{
  "nbformat": 4,
  "nbformat_minor": 0,
  "metadata": {
    "colab": {
      "name": "圖文選單＆按鍵範本.ipynb",
      "provenance": [],
      "authorship_tag": "ABX9TyMHVqALyANrDNN9Ov3N05cO",
      "include_colab_link": true
    },
    "kernelspec": {
      "name": "python3",
      "display_name": "Python 3"
    },
    "language_info": {
      "name": "python"
    }
  },
  "cells": [
    {
      "cell_type": "markdown",
      "metadata": {
        "id": "view-in-github",
        "colab_type": "text"
      },
      "source": [
        "<a href=\"https://colab.research.google.com/github/Ron-Wu/Machine-learning-0602/blob/main/%E5%9C%96%E6%96%87%E9%81%B8%E5%96%AE%EF%BC%86%E6%8C%89%E9%8D%B5%E7%AF%84%E6%9C%AC.ipynb\" target=\"_parent\"><img src=\"https://colab.research.google.com/assets/colab-badge.svg\" alt=\"Open In Colab\"/></a>"
      ]
    },
    {
      "cell_type": "code",
      "metadata": {
        "id": "cM8grFxYirjv"
      },
      "source": [
        "# 圖文選單\n",
        "\n",
        "menuRawData = \"\"\"\n",
        "{\n",
        "  \"size\": {\n",
        "    \"width\": 2500,\n",
        "    \"height\": 843\n",
        "  },\n",
        "  \"selected\": true,\n",
        "  \"name\": \"看看吃了多少熱量吧\",\n",
        "  \"chatBarText\": \"看看今天吃了多少熱量吧\",\n",
        "  \"areas\": [\n",
        "   {\n",
        "      \"bounds\": {\n",
        "        \"x\": 42,\n",
        "        \"y\": 28,\n",
        "        \"width\": 672,\n",
        "        \"height\": 793\n",
        "      },\n",
        "      \"action\": {\n",
        "        \"type\": \"message\",\n",
        "        \"text\": \"我要查看!\"\n",
        "      }\n",
        "    },\n",
        "    {\n",
        "      \"bounds\": {\n",
        "        \"x\": 779,\n",
        "        \"y\": 37,\n",
        "        \"width\": 928,\n",
        "        \"height\": 751\n",
        "      },\n",
        "      \"action\": {\n",
        "        \"type\":\"message\",\n",
        "        \"text\":\"我要記錄!\"\n",
        "      }\n",
        "    },\n",
        "    {\n",
        "      \"bounds\": {\n",
        "        \"x\": 1772,\n",
        "        \"y\": 47,\n",
        "        \"width\": 714,\n",
        "        \"height\": 737\n",
        "      },\n",
        "      \"action\": {\n",
        "        \"type\": \"message\",\n",
        "        \"text\": \"虛擬人物\"\n",
        "      }\n",
        "    }\n",
        "  ]\n",
        "}\n",
        "\"\"\"\n"
      ],
      "execution_count": null,
      "outputs": []
    },
    {
      "cell_type": "code",
      "metadata": {
        "id": "LVU9nW9fi81_"
      },
      "source": [
        "# 角色區間功能 僅改變圖片網址\n",
        "\n",
        "buttons_template_message2 = TemplateSendMessage(\n",
        "    alt_text='Buttons template',\n",
        "    template=ButtonsTemplate(\n",
        "        thumbnail_image_url=\"https://i.imgur.com/ENsB68f.jpg\",\n",
        "        image_size =  \"contain\",\n",
        "        title=\"來看看你的角色變得如何要嗎？\",\n",
        "        text=\"限定區間內有記錄七天以上的功能喔\",\n",
        "        actions=[\n",
        "            {\n",
        "                \"type\": \"datetimepicker\",\n",
        "                \"label\": \"選一個區間_頭\",\n",
        "                \"data\": \"date_1\",\n",
        "                \"mode\": \"date\",\n",
        "            },\n",
        "            {\n",
        "                \"type\": \"datetimepicker\",\n",
        "                \"label\": \"選一個區間_尾\",\n",
        "                \"data\": \"date_2\",\n",
        "                \"mode\": \"date\",\n",
        "            },\n",
        "        ],\n",
        "    )\n",
        ")"
      ],
      "execution_count": null,
      "outputs": []
    }
  ]
}