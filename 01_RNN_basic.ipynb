{
  "nbformat": 4,
  "nbformat_minor": 0,
  "metadata": {
    "colab": {
      "name": "01_RNN basic.ipynb",
      "provenance": [],
      "collapsed_sections": [],
      "include_colab_link": true
    },
    "kernelspec": {
      "name": "python3",
      "display_name": "Python 3"
    }
  },
  "cells": [
    {
      "cell_type": "markdown",
      "metadata": {
        "id": "view-in-github",
        "colab_type": "text"
      },
      "source": [
        "<a href=\"https://colab.research.google.com/github/Ron-Wu/Machine-learning-0602/blob/main/01_RNN_basic.ipynb\" target=\"_parent\"><img src=\"https://colab.research.google.com/assets/colab-badge.svg\" alt=\"Open In Colab\"/></a>"
      ]
    },
    {
      "cell_type": "code",
      "metadata": {
        "id": "7MQTJpgXIZTb"
      },
      "source": [
        "import tensorflow as tf\n",
        "from tensorflow.keras import layers, models"
      ],
      "execution_count": 1,
      "outputs": []
    },
    {
      "cell_type": "code",
      "metadata": {
        "id": "MyuU_zLAQTZ2"
      },
      "source": [
        "# Sample: 1\n",
        "# Sequence Length: 5\n",
        "# feature dimension: 8\n",
        "\n",
        "inputs = tf.random.normal([1, 5, 8])"
      ],
      "execution_count": 2,
      "outputs": []
    },
    {
      "cell_type": "markdown",
      "metadata": {
        "id": "atmpBvPyLWCJ"
      },
      "source": [
        "# tf.keras.layers.LSTM"
      ]
    },
    {
      "cell_type": "code",
      "metadata": {
        "id": "ad4M9eEwIddc",
        "colab": {
          "base_uri": "https://localhost:8080/"
        },
        "outputId": "aa11b832-9f25-4f70-d147-638a934d35f0"
      },
      "source": [
        "# output = layers.LSTM(units=3)(inputs)\n",
        "output = layers.LSTM(units=3, return_sequences=True)(inputs)\n",
        "print(output.shape)"
      ],
      "execution_count": 5,
      "outputs": [
        {
          "output_type": "stream",
          "text": [
            "(1, 5, 3)\n"
          ],
          "name": "stdout"
        }
      ]
    },
    {
      "cell_type": "code",
      "metadata": {
        "id": "_t8D3p7dJ0vg",
        "colab": {
          "base_uri": "https://localhost:8080/"
        },
        "outputId": "be2ccb32-0b40-416b-b5d1-dc7424ebfe1f"
      },
      "source": [
        "whole_seq_output, final_hiden_state, final_cell_state = layers.LSTM(3, \n",
        "                                                                    return_sequences=True, # True:得到每個時間點的output \n",
        "                                                                    return_state=True)(inputs) # True:最後一個時間點的h, c\n",
        "\n",
        "print('whole_seq_output: ', whole_seq_output.shape, whole_seq_output)\n",
        "print('final_hiden_state (h): ', final_hiden_state.shape, final_hiden_state)\n",
        "print('final_cell_state (c): ', final_cell_state.shape, final_cell_state)"
      ],
      "execution_count": 4,
      "outputs": [
        {
          "output_type": "stream",
          "text": [
            "whole_seq_output:  (1, 5, 3) tf.Tensor(\n",
            "[[[ 0.20320845  0.0868627   0.08685748]\n",
            "  [ 0.36432424  0.3584084   0.19488938]\n",
            "  [-0.02568113  0.2051757   0.2679192 ]\n",
            "  [ 0.26185203  0.4415762   0.19969772]\n",
            "  [ 0.02701587  0.04609432  0.17912824]]], shape=(1, 5, 3), dtype=float32)\n",
            "final_hiden_state (h):  (1, 3) tf.Tensor([[0.02701587 0.04609432 0.17912824]], shape=(1, 3), dtype=float32)\n",
            "final_cell_state (c):  (1, 3) tf.Tensor([[0.09608124 0.21627405 0.20318986]], shape=(1, 3), dtype=float32)\n"
          ],
          "name": "stdout"
        }
      ]
    },
    {
      "cell_type": "markdown",
      "metadata": {
        "id": "Cf8aLad2LX9w"
      },
      "source": [
        "# tf.keras.layers.GRU"
      ]
    },
    {
      "cell_type": "code",
      "metadata": {
        "id": "9xxagyy9LYt_",
        "colab": {
          "base_uri": "https://localhost:8080/"
        },
        "outputId": "da9d7f30-6974-49c2-d42b-437aab48f9d4"
      },
      "source": [
        "output = layers.GRU(units=3)(inputs)\n",
        "print(output.shape)"
      ],
      "execution_count": 6,
      "outputs": [
        {
          "output_type": "stream",
          "text": [
            "(1, 3)\n"
          ],
          "name": "stdout"
        }
      ]
    },
    {
      "cell_type": "code",
      "metadata": {
        "id": "x2THpViELlO5",
        "colab": {
          "base_uri": "https://localhost:8080/"
        },
        "outputId": "5f3bed56-f244-4f88-ac3a-87ac41017daf"
      },
      "source": [
        "# output 沒有 c\n",
        "whole_sequence_output, final_state = layers.GRU(3, return_sequences=True, return_state=True)(inputs)\n",
        "\n",
        "print('whole_seq_output: ', whole_sequence_output.shape, whole_sequence_output)\n",
        "print('final_state (h): ', final_state.shape, final_state)"
      ],
      "execution_count": 7,
      "outputs": [
        {
          "output_type": "stream",
          "text": [
            "whole_seq_output:  (1, 5, 3) tf.Tensor(\n",
            "[[[-0.17894605  0.6080384  -0.12286589]\n",
            "  [-0.6290288   0.6598771  -0.04857271]\n",
            "  [-0.31789404  0.05393986  0.24701616]\n",
            "  [-0.4966442   0.3179363  -0.62757695]\n",
            "  [ 0.1526277   0.46977273 -0.70959246]]], shape=(1, 5, 3), dtype=float32)\n",
            "final_state (h):  (1, 3) tf.Tensor([[ 0.1526277   0.46977273 -0.70959246]], shape=(1, 3), dtype=float32)\n"
          ],
          "name": "stdout"
        }
      ]
    },
    {
      "cell_type": "markdown",
      "metadata": {
        "id": "BLcEAbfIM7IT"
      },
      "source": [
        "# tf.keras.layers.Bidirectional"
      ]
    },
    {
      "cell_type": "code",
      "metadata": {
        "id": "8aDkLkxeM-XQ",
        "colab": {
          "base_uri": "https://localhost:8080/"
        },
        "outputId": "4b9b8526-b26b-42e9-ecf1-9e21472795f0"
      },
      "source": [
        "output = layers.Bidirectional(layers.LSTM(3))(inputs)\n",
        "print(output.shape) # 因為順向（3）加逆向（3）"
      ],
      "execution_count": 8,
      "outputs": [
        {
          "output_type": "stream",
          "text": [
            "(1, 6)\n"
          ],
          "name": "stdout"
        }
      ]
    },
    {
      "cell_type": "code",
      "metadata": {
        "id": "fMQkgBJ3NYeO",
        "colab": {
          "base_uri": "https://localhost:8080/"
        },
        "outputId": "6f1294aa-74af-4496-caaa-df752095177d"
      },
      "source": [
        "# merge_mode: Sum\n",
        "output = layers.Bidirectional(layers.LSTM(3), merge_mode='sum')(inputs)\n",
        "print(output.shape)"
      ],
      "execution_count": 9,
      "outputs": [
        {
          "output_type": "stream",
          "text": [
            "(1, 3)\n"
          ],
          "name": "stdout"
        }
      ]
    },
    {
      "cell_type": "code",
      "metadata": {
        "id": "pbBbk7e7NqOK",
        "colab": {
          "base_uri": "https://localhost:8080/"
        },
        "outputId": "1d870c5b-f184-4db7-e568-e87f0fcafb90"
      },
      "source": [
        "# return_sequences: True\n",
        "output = layers.Bidirectional(layers.LSTM(10, return_sequences=True))(inputs)\n",
        "print(output.shape)"
      ],
      "execution_count": 10,
      "outputs": [
        {
          "output_type": "stream",
          "text": [
            "(1, 5, 20)\n"
          ],
          "name": "stdout"
        }
      ]
    },
    {
      "cell_type": "code",
      "metadata": {
        "id": "u3Kh1ZkPNwtA",
        "colab": {
          "base_uri": "https://localhost:8080/"
        },
        "outputId": "2e644820-e926-483c-8be3-bc4f9ac8263d"
      },
      "source": [
        "# return_sequences: True, \n",
        "output, forward_h, forward_c, backward_h, backward_c = layers.Bidirectional(layers.LSTM(2, return_sequences=True, return_state=True))(inputs)\n",
        "print('output : ', output.shape, output)\n",
        "print('forward_h : ', forward_h.shape, forward_h)\n",
        "print('forward_c : ', forward_c.shape, forward_c)\n",
        "print('backward_h : ', backward_h.shape, backward_h)\n",
        "print('backward_c : ', backward_c.shape, backward_c)\n"
      ],
      "execution_count": 11,
      "outputs": [
        {
          "output_type": "stream",
          "text": [
            "output :  (1, 5, 4) tf.Tensor(\n",
            "[[[ 0.00767907 -0.03574024 -0.1429682  -0.27382717]\n",
            "  [-0.06311151 -0.12624612  0.02876142 -0.08537212]\n",
            "  [-0.15491545 -0.09852992  0.21898209  0.05458275]\n",
            "  [-0.09643558 -0.11551264 -0.00779475 -0.11317746]\n",
            "  [ 0.3699543  -0.00553183  0.38291797  0.14241624]]], shape=(1, 5, 4), dtype=float32)\n",
            "forward_h :  (1, 2) tf.Tensor([[ 0.3699543  -0.00553183]], shape=(1, 2), dtype=float32)\n",
            "forward_c :  (1, 2) tf.Tensor([[ 0.4188828  -0.03246808]], shape=(1, 2), dtype=float32)\n",
            "backward_h :  (1, 2) tf.Tensor([[-0.1429682  -0.27382717]], shape=(1, 2), dtype=float32)\n",
            "backward_c :  (1, 2) tf.Tensor([[-0.45263442 -0.66950417]], shape=(1, 2), dtype=float32)\n"
          ],
          "name": "stdout"
        }
      ]
    },
    {
      "cell_type": "markdown",
      "metadata": {
        "id": "kLmti2QISYyV"
      },
      "source": [
        "## Many-to-one"
      ]
    },
    {
      "cell_type": "code",
      "metadata": {
        "id": "mLX9Rho9SbbC",
        "colab": {
          "base_uri": "https://localhost:8080/"
        },
        "outputId": "f524b877-9191-4e06-b2ff-8ef87817140c"
      },
      "source": [
        "input = layers.Input(shape=(5, 8))\n",
        "x = layers.LSTM(2)(input)\n",
        "ouput = layers.Dense(10, activation='softmax')(x)\n",
        "model = models.Model(input, ouput)\n",
        "model.summary()"
      ],
      "execution_count": null,
      "outputs": [
        {
          "output_type": "stream",
          "text": [
            "Model: \"model_2\"\n",
            "_________________________________________________________________\n",
            "Layer (type)                 Output Shape              Param #   \n",
            "=================================================================\n",
            "input_3 (InputLayer)         [(None, 5, 8)]            0         \n",
            "_________________________________________________________________\n",
            "lstm_7 (LSTM)                (None, 2)                 88        \n",
            "_________________________________________________________________\n",
            "dense_2 (Dense)              (None, 10)                30        \n",
            "=================================================================\n",
            "Total params: 118\n",
            "Trainable params: 118\n",
            "Non-trainable params: 0\n",
            "_________________________________________________________________\n"
          ],
          "name": "stdout"
        }
      ]
    },
    {
      "cell_type": "code",
      "metadata": {
        "id": "XT1W5B-2Td0m",
        "colab": {
          "base_uri": "https://localhost:8080/"
        },
        "outputId": "a480da09-b79e-456a-b97a-fa4bdf661a5d"
      },
      "source": [
        "# multi-layer\n",
        "input = layers.Input(shape=(5, 8))\n",
        "x1 = layers.LSTM(128, return_sequences=True)(input)\n",
        "x2 = layers.LSTM(256, return_sequences=True)(x1)\n",
        "x3 = layers.LSTM(10)(x2)\n",
        "ouput = layers.Dense(10, activation='softmax')(x3)\n",
        "model = models.Model(input, ouput)\n",
        "model.summary()"
      ],
      "execution_count": null,
      "outputs": [
        {
          "output_type": "stream",
          "text": [
            "Model: \"functional_7\"\n",
            "_________________________________________________________________\n",
            "Layer (type)                 Output Shape              Param #   \n",
            "=================================================================\n",
            "input_5 (InputLayer)         [(None, 5, 8)]            0         \n",
            "_________________________________________________________________\n",
            "lstm_20 (LSTM)               (None, 5, 128)            70144     \n",
            "_________________________________________________________________\n",
            "lstm_21 (LSTM)               (None, 5, 256)            394240    \n",
            "_________________________________________________________________\n",
            "lstm_22 (LSTM)               (None, 10)                10680     \n",
            "_________________________________________________________________\n",
            "dense_3 (Dense)              (None, 10)                110       \n",
            "=================================================================\n",
            "Total params: 475,174\n",
            "Trainable params: 475,174\n",
            "Non-trainable params: 0\n",
            "_________________________________________________________________\n"
          ],
          "name": "stdout"
        }
      ]
    },
    {
      "cell_type": "code",
      "metadata": {
        "id": "XNoebK2JTsMN"
      },
      "source": [
        ""
      ],
      "execution_count": null,
      "outputs": []
    },
    {
      "cell_type": "markdown",
      "metadata": {
        "id": "xgYNk_0dUVyE"
      },
      "source": [
        "# Many-to-many (same length)"
      ]
    },
    {
      "cell_type": "code",
      "metadata": {
        "id": "3ThPhdZVUkRM",
        "colab": {
          "base_uri": "https://localhost:8080/"
        },
        "outputId": "524392ad-f26e-4795-c5e2-862dccedb8fc"
      },
      "source": [
        "input = layers.Input(shape=(50, 8))\n",
        "x = layers.LSTM(10, return_sequences=True)(input)\n",
        "output = layers.Dense(20, activation='softmax')(x)\n",
        "# output = layers.TimeDistributed(layers.Dense(20, activation='softmax'))(x)\n",
        "model = models.Model(input, output)\n",
        "model.summary()"
      ],
      "execution_count": null,
      "outputs": [
        {
          "output_type": "stream",
          "text": [
            "Model: \"functional_9\"\n",
            "_________________________________________________________________\n",
            "Layer (type)                 Output Shape              Param #   \n",
            "=================================================================\n",
            "input_6 (InputLayer)         [(None, 50, 8)]           0         \n",
            "_________________________________________________________________\n",
            "lstm_23 (LSTM)               (None, 50, 10)            760       \n",
            "_________________________________________________________________\n",
            "dense_4 (Dense)              (None, 50, 20)            220       \n",
            "=================================================================\n",
            "Total params: 980\n",
            "Trainable params: 980\n",
            "Non-trainable params: 0\n",
            "_________________________________________________________________\n"
          ],
          "name": "stdout"
        }
      ]
    },
    {
      "cell_type": "markdown",
      "metadata": {
        "id": "ma9TzYCQWoh7"
      },
      "source": [
        "## Many-to-many (different length) : Seq2seq"
      ]
    },
    {
      "cell_type": "code",
      "metadata": {
        "id": "jGzcPsSkWuaW",
        "colab": {
          "base_uri": "https://localhost:8080/"
        },
        "outputId": "163df217-ec29-409e-fc94-3ff7abfc7141"
      },
      "source": [
        "input = layers.Input(shape=(50, 16))\n",
        "x = layers.LSTM(1)(input)\n",
        "model = models.Model(input, x)\n",
        "model.summary()"
      ],
      "execution_count": null,
      "outputs": [
        {
          "output_type": "stream",
          "text": [
            "Model: \"functional_17\"\n",
            "_________________________________________________________________\n",
            "Layer (type)                 Output Shape              Param #   \n",
            "=================================================================\n",
            "input_10 (InputLayer)        [(None, 50, 16)]          0         \n",
            "_________________________________________________________________\n",
            "lstm_27 (LSTM)               (None, 1)                 72        \n",
            "=================================================================\n",
            "Total params: 72\n",
            "Trainable params: 72\n",
            "Non-trainable params: 0\n",
            "_________________________________________________________________\n"
          ],
          "name": "stdout"
        }
      ]
    },
    {
      "cell_type": "code",
      "metadata": {
        "id": "rN1gKJOzwkWd"
      },
      "source": [
        ""
      ],
      "execution_count": null,
      "outputs": []
    }
  ]
}