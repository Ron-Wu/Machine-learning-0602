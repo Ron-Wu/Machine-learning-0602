{
  "nbformat": 4,
  "nbformat_minor": 0,
  "metadata": {
    "colab": {
      "name": "0720.ipynb",
      "provenance": [],
      "collapsed_sections": [],
      "include_colab_link": true
    },
    "kernelspec": {
      "name": "python3",
      "display_name": "Python 3"
    },
    "language_info": {
      "name": "python"
    }
  },
  "cells": [
    {
      "cell_type": "markdown",
      "metadata": {
        "id": "view-in-github",
        "colab_type": "text"
      },
      "source": [
        "<a href=\"https://colab.research.google.com/github/Ron-Wu/Machine-learning-0602/blob/main/0720.ipynb\" target=\"_parent\"><img src=\"https://colab.research.google.com/assets/colab-badge.svg\" alt=\"Open In Colab\"/></a>"
      ]
    },
    {
      "cell_type": "code",
      "metadata": {
        "id": "WA_f0-WZwCFh"
      },
      "source": [
        "cal_database = {\n",
        "    0:['包子','300','baozi'], 1:['漢堡','250','buger'], 2:['蛋餅','280','danbing'],\n",
        "    3:['飲料','500','drinks'], 4:['飯糰','400','fantuan'], 5:['鍋貼','50','guotie'],\n",
        "    6:['燒餅','170','shaobing'], 7:['吐司','345','sliced_bread'], 8:['饅頭','175','steamed_bread'],\n",
        "    9:['御飯糰','150','triangle_riceball'], 10:['小籠包','45','xiaolongbao'], 11:['油條','100','you_tiao']\n",
        "}"
      ],
      "execution_count": null,
      "outputs": []
    },
    {
      "cell_type": "code",
      "metadata": {
        "id": "h0iWueO8wLzr",
        "colab": {
          "base_uri": "https://localhost:8080/"
        },
        "outputId": "63fdeb0f-9485-4769-8355-a9afbb1540fc"
      },
      "source": [
        "# 詢問用戶品項\n",
        "str_f = \"\"\n",
        "for i in range(len(list(set_l))):\n",
        "  if i < len(list(set_l))-1:\n",
        "    # print(cal_database[list(set_l)[i]][0])\n",
        "    str_f += f\"{cal_database[list(set_l)[i]][0]},\"\n",
        "  else:\n",
        "    str_f += f\"{cal_database[list(set_l)[i]][0]}\"\n",
        "# print(str_f)\n",
        "\n",
        "print(f'你的餐點是\"{str_f}\"是嗎')\n",
        "print(f'請照順序輸入份數，例：若三份，一份，請輸入：3,1')"
      ],
      "execution_count": null,
      "outputs": [
        {
          "output_type": "stream",
          "text": [
            "飲料,吐司\n",
            "你的餐點是\"飲料,吐司\"是嗎\n",
            "請照順序輸入份數，例：若三份，一份，請輸入：3,1\n"
          ],
          "name": "stdout"
        }
      ]
    },
    {
      "cell_type": "code",
      "metadata": {
        "id": "KVsPHWUz0G0A",
        "colab": {
          "base_uri": "https://localhost:8080/"
        },
        "outputId": "298d06fc-8090-4b79-b3a2-183215c91a8f"
      },
      "source": [
        "# 詢問份數 假設回傳 4,4\n",
        "food_count_s = \"0.5/2\"\n",
        "food_count_l = food_count_s.split(\"/\")\n",
        "print(food_count_l)\n",
        "\n",
        "total_cal = 0\n",
        "for i in range(len(list(set_l))):\n",
        "  print(f\"{cal_database[list(set_l)[i]][0]}熱量：{cal_database[list(set_l)[i]][1]}\")\n",
        "  total_cal += float(food_count_l[i])*float(cal_database[list(set_l)[i]][1])\n",
        "\n",
        "print(total_cal)"
      ],
      "execution_count": null,
      "outputs": [
        {
          "output_type": "stream",
          "text": [
            "['0.5', '2']\n",
            "飲料熱量：500\n",
            "吐司熱量：345\n",
            "940.0\n"
          ],
          "name": "stdout"
        }
      ]
    },
    {
      "cell_type": "code",
      "metadata": {
        "id": "qPoO2OzO7FTz",
        "colab": {
          "base_uri": "https://localhost:8080/"
        },
        "outputId": "5f83992a-82fa-48a5-8f93-11335d1a4e0b"
      },
      "source": [
        "# 文字熱量\n",
        "cal_dataset = {\"麵包\":\"300\", \"漢堡\":\"500\"}\n",
        "user_input = \"牛肉漢堡\"\n",
        "c_l = cal_dataset.keys()\n",
        "print(type(c_l))\n",
        "print(c_l)\n",
        "\n",
        "for i in c_l:\n",
        "  if i in user_input:\n",
        "    print(i)\n",
        "\n",
        "print(f'{user_input}的熱量約{cal_dataset[i]}大卡')"
      ],
      "execution_count": null,
      "outputs": [
        {
          "output_type": "stream",
          "text": [
            "<class 'dict_keys'>\n",
            "dict_keys(['麵包', '漢堡'])\n",
            "漢堡\n",
            "牛肉漢堡的熱量約500大卡\n"
          ],
          "name": "stdout"
        }
      ]
    },
    {
      "cell_type": "markdown",
      "metadata": {
        "id": "5yzNd8_oIONI"
      },
      "source": [
        "--------------------------------------------------------------------------"
      ]
    },
    {
      "cell_type": "markdown",
      "metadata": {
        "id": "x1N_qo5WIOhb"
      },
      "source": [
        "--------------------------------------------------------------------------"
      ]
    },
    {
      "cell_type": "code",
      "metadata": {
        "colab": {
          "base_uri": "https://localhost:8080/"
        },
        "id": "_m9mdulfd4Ap",
        "outputId": "cf3ff2b5-90a4-4d2b-accb-3995de4c1294"
      },
      "source": [
        "# 取出“所有”更新過TDEE的日期 放入 tdee_input_date列表\n",
        "# 將對應的日期與TDEE 放入 date_tdee_value字典\n",
        "f = open(\"date_tdee.txt\")\n",
        "data = f.read().splitlines()\n",
        "print(data)\n",
        "\n",
        "date_tdee_value = {}\n",
        "tdee_input_date =[]\n",
        "\n",
        "for i in data:\n",
        "  tdee_input_date.append(i.split(\",\")[0])\n",
        "  date_tdee_value[i.split(\",\")[0]] = i.split(\",\")[1]\n",
        "date1 = tdee_input_date[-2]\n",
        "date2 = tdee_input_date[-1]\n",
        "# print(date1, date2)\n",
        "\n",
        "print(f\"tdee_input_date列表: {tdee_input_date}\")\n",
        "print(f\"date_tdee_value字典: {date_tdee_value}\") # 字典=> TDEE輸入日期：TDEE"
      ],
      "execution_count": 262,
      "outputs": [
        {
          "output_type": "stream",
          "text": [
            "['2021-06-01,2000', '2021-07-01,2500', '2021-07-16,3000']\n",
            "tdee_input_date列表: ['2021-06-01', '2021-07-01', '2021-07-16']\n",
            "date_tdee_value字典: {'2021-06-01': '2000', '2021-07-01': '2500', '2021-07-16': '3000'}\n"
          ],
          "name": "stdout"
        }
      ]
    },
    {
      "cell_type": "code",
      "metadata": {
        "id": "wkAvdJQ1rwEj"
      },
      "source": [
        "# 可以取出兩個日期之間的其他日期，包含“最尾的日期”\n",
        "def count_window(datex, datey):\n",
        "  # 取出用戶選取的區間日期\n",
        "  import time  # 引入time\n",
        "  def rm0(r):\n",
        "      timeString = r  # 時間格式為字串\n",
        "      struct_time = time.strptime(timeString, \"%Y-%m-%d\")  # 轉成時間元組\n",
        "      time_stamp = int(time.mktime(struct_time))  # 轉成時間戳\n",
        "      # print(time_stamp)\n",
        "      date = time.strftime('%Y-%-m-%-d', time.localtime(time_stamp))\n",
        "      return date\n",
        "  rmx = rm0(datex)\n",
        "  rmy = rm0(datey)\n",
        "  x_l = rmx.split(\"-\")\n",
        "  y_l = rmy.split(\"-\")\n",
        "  # print(\"x_l:\", x_l)\n",
        "  # print(\"y_l:\", y_l)\n",
        "  import datetime\n",
        "  a = datetime.date(int(x_l[0]), int(x_l[1]), int(x_l[2]))\n",
        "  b = datetime.date(int(y_l[0]), int(y_l[1]), int(y_l[2]))\n",
        "  user_choose_total = []\n",
        "  for i in range(a.toordinal(), b.toordinal()):\n",
        "      # print(str(datetime.date.fromordinal(i)))\n",
        "      user_choose_total.append(str(datetime.date.fromordinal(i)))\n",
        "  user_choose_total.append(user_choose2)\n",
        "  return user_choose_total"
      ],
      "execution_count": 263,
      "outputs": []
    },
    {
      "cell_type": "code",
      "metadata": {
        "colab": {
          "base_uri": "https://localhost:8080/"
        },
        "id": "YAQuFqz4w8JH",
        "outputId": "72cd9e48-4613-4ab2-c672-b30d778734dc"
      },
      "source": [
        "# 計算用戶選取的日期區間\n",
        "user_choose1 = \"2021-07-13\"\n",
        "user_choose2 = \"2021-07-15\"\n",
        "user_choose_list = count_window(user_choose1, user_choose2)\n",
        "print(user_choose_list)"
      ],
      "execution_count": 264,
      "outputs": [
        {
          "output_type": "stream",
          "text": [
            "['2021-07-13', '2021-07-14', '2021-07-15']\n"
          ],
          "name": "stdout"
        }
      ]
    },
    {
      "cell_type": "code",
      "metadata": {
        "colab": {
          "base_uri": "https://localhost:8080/"
        },
        "id": "MVUqqRNXsxpZ",
        "outputId": "04328409-73f5-4490-f80b-4d61322fa41d"
      },
      "source": [
        "# 看 tdee_input_date(輸入過TDEE的日期) 的哪天在 user_choose_list(用戶選取區間)裡\n",
        "tdee_count = []\n",
        "for i in tdee_input_date:\n",
        "  if i in user_choose_list:\n",
        "    tdee_count.append(i)\n",
        "print(f\"包含到的日子有：{tdee_count}\")\n",
        "\n",
        "## 如果剛好沒有框到輸入TDEE的日期，\n",
        "## 用迴圈確定使用者標註的第一天是否在某兩個輸入TDEE的區間，若是則取輸入TDEE的前者\n",
        "if len(tdee_count) == 0:\n",
        "  for i in range(len(tdee_input_date)-1):\n",
        "    bb = count_window(tdee_input_date[i], tdee_input_date[i+1]) \n",
        "    # print(bb)\n",
        "    if user_choose_list[0] in bb:\n",
        "      print(tdee_input_date[i])\n",
        "\n",
        "  tdee_value = date_tdee_value[tdee_input_date[i]]\n",
        "  print(tdee_value)\n",
        "\n",
        "  tdee_choose_date = {}\n",
        "  tdee_choose_date[tdee_input_date[i]]=user_choose_list\n",
        "  print(tdee_choose_date)\n",
        "\n",
        "  tdee_count.append(tdee_input_date[i])\n",
        "  print(f\"tdee_count新增後: {tdee_count}\")\n",
        "\n",
        "# 如果只有一天，需取 “前一次輸入TDEE的時間“\n",
        "# date_tdee_value字典: {'2021-06-01': '2000', '2021-07-01': '2500', '2021-07-16': '3000'}\n",
        "elif len(tdee_count) == 1:\n",
        "  \n",
        "  # print(tdee_input_date.index(tdee_count[0]))\n",
        "\n",
        "  tdee_index = user_choose_list.index(tdee_count[0]) #  包含到的日期的index\n",
        "\n",
        "  user_choose_list1 = user_choose_list[:tdee_index] # 已包含到的日期去做分界\n",
        "  print(f\"前區間: {user_choose_list1}\")\n",
        "  \n",
        "  print(f'tdee_count新增前: {tdee_count}')\n",
        "  tdee_count.insert(0,tdee_input_date[tdee_input_date.index(tdee_count[0])-1]) # 把前一個輸入TDEE的日期 插入第0位\n",
        "  print(f'tdee_count新增後: {tdee_count}')\n",
        "\n",
        "  user_choose_list2 = user_choose_list[tdee_index:] # 已包含到的日期去做分界\n",
        "  print(f\"後區間: {user_choose_list2}\")\n",
        "  \n",
        "  tdee_choose_date = {}\n",
        "  tdee_choose_date[tdee_count[0]] = user_choose_list1 # 將 前一個輸入TDEE的日期：前區間 寫入字典 tdee_choose_date\n",
        "  tdee_choose_date[tdee_count[1]] = user_choose_list2 # 將 有被包含到的TDEE的日期：後區間 寫入字典 tdee_choose_date\n",
        "  print(tdee_choose_date)\n",
        "\n",
        "  # for i in tdee_count:\n",
        "  #   if i in tdee_choose_date.keys():\n",
        "  #     print(tdee_choose_date[i])\n",
        "\n",
        "\n",
        "\n",
        "  # date_tdee_value字典: {'2021-06-01': '2000', '2021-07-01': '2500', '2021-07-16': '3000'}\n",
        "  # tdee_input_date列表: ['2021-06-01', '2021-07-01', '2021-07-16']"
      ],
      "execution_count": 273,
      "outputs": [
        {
          "output_type": "stream",
          "text": [
            "包含到的日子有：[]\n",
            "2021-07-01\n",
            "2500\n",
            "{'2021-07-01': ['2021-07-13', '2021-07-14', '2021-07-15']}\n",
            "tdee_count新增後: ['2021-07-01']\n"
          ],
          "name": "stdout"
        }
      ]
    },
    {
      "cell_type": "code",
      "metadata": {
        "colab": {
          "base_uri": "https://localhost:8080/"
        },
        "id": "3FmNg0Y3--lU",
        "outputId": "9d3296f8-f2d8-4082-d4f5-8c1e3eec161e"
      },
      "source": [
        "ussr_choose_list_1 = []\n",
        "user_input_record_date = []\n",
        "user_TDEE = []\n",
        "for i in tdee_count:\n",
        "  if i in tdee_choose_date.keys():\n",
        "    print(tdee_choose_date[i])\n",
        "    print(i)   \n",
        "\n",
        "    for j in range(len(tdee_choose_date[i])):\n",
        "      try:\n",
        "        f = open(f\"/content/{tdee_choose_date[i][j]}/daily_total.txt\")\n",
        "        data = f.read().splitlines()\n",
        "        print(tdee_choose_date[i][j])\n",
        "        user_input_record_date.append(tdee_choose_date[i][j])\n",
        "        print(f\"data: {data}\")\n",
        "        print(type(data))\n",
        "        print(\"-\"*30)\n",
        "        \n",
        "        # date_tdee_value字典: {'2021-06-01': '2000', '2021-07-01': '2500', '2021-07-16': '3000'}     \n",
        "        user_TDEE.append(date_tdee_value[i])\n",
        "\n",
        "        ## 計算一天總熱量\n",
        "        total = 0\n",
        "        for k in data:\n",
        "          total += float(k)\n",
        "        ussr_choose_list_1.append(total)\n",
        "          # print(f\"紀錄完成: {ussr_choose_list_1}\")\n",
        "          # print(\"-\"*30)\n",
        "      except:\n",
        "        pass\n",
        "  ussr_choose_list_1=ussr_choose_list_1\n",
        "print(f\"使用者輸入日期對應的單日總熱量：{ussr_choose_list_1}\")\n",
        "print(f\"使用者有紀錄的輸入日期：{user_input_record_date}\")\n",
        "print(f\"使用者在同樣順序的日期時的TDEE：{user_TDEE}\")"
      ],
      "execution_count": 279,
      "outputs": [
        {
          "output_type": "stream",
          "text": [
            "['2021-07-13', '2021-07-14', '2021-07-15']\n",
            "2021-07-01\n",
            "2021-07-14\n",
            "data: ['1000', '400']\n",
            "<class 'list'>\n",
            "------------------------------\n",
            "2021-07-15\n",
            "data: ['1000', '500']\n",
            "<class 'list'>\n",
            "------------------------------\n",
            "使用者輸入日期對應的單日總熱量：[1400.0, 1500.0]\n",
            "使用者有紀錄的輸入日期：['2021-07-14', '2021-07-15']\n",
            "使用者在同樣順序的日期時的TDEE：['2500', '2500']\n"
          ],
          "name": "stdout"
        }
      ]
    }
  ]
}